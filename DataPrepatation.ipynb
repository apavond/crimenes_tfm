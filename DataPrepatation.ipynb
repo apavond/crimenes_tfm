{
 "cells": [
  {
   "cell_type": "markdown",
   "metadata": {},
   "source": [
    "# Predicción de crímenes\n",
    "### Trabajo Fin de Máster para el Máster Universitario en Ciencia de Datos\n",
    "### Universitat Oberta de Catalunya\n",
    "### Realizado por Álvaro Pavón Díaz"
   ]
  },
  {
   "cell_type": "markdown",
   "metadata": {},
   "source": [
    "## Parte 1: Comprensión y preparaciónde los datos\n",
    "Durante este Jupyter notebook nos dedicaremos a realizar diferentes pruebas de visualización de los datos para su comprensión y transformación de diferentes atributos para su posterior utilización en la predicción de donde se producirán los siguientes crímenes.\n",
    "\n",
    "Para ello lo primero se va a proceder a importar las diferentes clases que se necesitarán a lo largo de este notebook y la importación del archivo que se va a utilizar, que se puede acceder a través del siguiente link: https://www.kaggle.com/AnalyzeBoston/crimes-in-boston"
   ]
  },
  {
   "cell_type": "code",
   "execution_count": 1,
   "metadata": {},
   "outputs": [],
   "source": [
    "import pandas as pd\n",
    "import os\n",
    "import numpy as np\n",
    "import seaborn as sns\n",
    "import matplotlib.pyplot as plt\n",
    "import time_function\n",
    "from sklearn.preprocessing import MinMaxScaler"
   ]
  },
  {
   "cell_type": "code",
   "execution_count": 2,
   "metadata": {},
   "outputs": [],
   "source": [
    "crimes_df = pd.read_csv ('crime.csv', sep='\"\"', delimiter=',', engine='python')\n",
    "original_crimes_df = crimes_df"
   ]
  },
  {
   "cell_type": "markdown",
   "metadata": {},
   "source": [
    "Comenzamos mirando que los datos han sido cargados correctamente."
   ]
  },
  {
   "cell_type": "code",
   "execution_count": 3,
   "metadata": {},
   "outputs": [
    {
     "data": {
      "text/html": [
       "<div>\n",
       "<style scoped>\n",
       "    .dataframe tbody tr th:only-of-type {\n",
       "        vertical-align: middle;\n",
       "    }\n",
       "\n",
       "    .dataframe tbody tr th {\n",
       "        vertical-align: top;\n",
       "    }\n",
       "\n",
       "    .dataframe thead th {\n",
       "        text-align: right;\n",
       "    }\n",
       "</style>\n",
       "<table border=\"1\" class=\"dataframe\">\n",
       "  <thead>\n",
       "    <tr style=\"text-align: right;\">\n",
       "      <th></th>\n",
       "      <th>INCIDENT_NUMBER</th>\n",
       "      <th>OFFENSE_CODE</th>\n",
       "      <th>OFFENSE_CODE_GROUP</th>\n",
       "      <th>OFFENSE_DESCRIPTION</th>\n",
       "      <th>DISTRICT</th>\n",
       "      <th>REPORTING_AREA</th>\n",
       "      <th>SHOOTING</th>\n",
       "      <th>OCCURRED_ON_DATE</th>\n",
       "      <th>YEAR</th>\n",
       "      <th>MONTH</th>\n",
       "      <th>DAY_OF_WEEK</th>\n",
       "      <th>HOUR</th>\n",
       "      <th>UCR_PART</th>\n",
       "      <th>STREET</th>\n",
       "      <th>Lat</th>\n",
       "      <th>Long</th>\n",
       "      <th>Location</th>\n",
       "    </tr>\n",
       "  </thead>\n",
       "  <tbody>\n",
       "    <tr>\n",
       "      <th>0</th>\n",
       "      <td>I182080058</td>\n",
       "      <td>2403</td>\n",
       "      <td>Disorderly Conduct</td>\n",
       "      <td>DISTURBING THE PEACE</td>\n",
       "      <td>E18</td>\n",
       "      <td>495</td>\n",
       "      <td>NaN</td>\n",
       "      <td>2018-10-03 20:13:00</td>\n",
       "      <td>2018</td>\n",
       "      <td>10</td>\n",
       "      <td>Wednesday</td>\n",
       "      <td>20</td>\n",
       "      <td>Part Two</td>\n",
       "      <td>ARLINGTON ST</td>\n",
       "      <td>42.262608</td>\n",
       "      <td>-71.121186</td>\n",
       "      <td>(42.26260773, -71.12118637)</td>\n",
       "    </tr>\n",
       "    <tr>\n",
       "      <th>1</th>\n",
       "      <td>I182080053</td>\n",
       "      <td>3201</td>\n",
       "      <td>Property Lost</td>\n",
       "      <td>PROPERTY - LOST</td>\n",
       "      <td>D14</td>\n",
       "      <td>795</td>\n",
       "      <td>NaN</td>\n",
       "      <td>2018-08-30 20:00:00</td>\n",
       "      <td>2018</td>\n",
       "      <td>8</td>\n",
       "      <td>Thursday</td>\n",
       "      <td>20</td>\n",
       "      <td>Part Three</td>\n",
       "      <td>ALLSTON ST</td>\n",
       "      <td>42.352111</td>\n",
       "      <td>-71.135311</td>\n",
       "      <td>(42.35211146, -71.13531147)</td>\n",
       "    </tr>\n",
       "    <tr>\n",
       "      <th>2</th>\n",
       "      <td>I182080052</td>\n",
       "      <td>2647</td>\n",
       "      <td>Other</td>\n",
       "      <td>THREATS TO DO BODILY HARM</td>\n",
       "      <td>B2</td>\n",
       "      <td>329</td>\n",
       "      <td>NaN</td>\n",
       "      <td>2018-10-03 19:20:00</td>\n",
       "      <td>2018</td>\n",
       "      <td>10</td>\n",
       "      <td>Wednesday</td>\n",
       "      <td>19</td>\n",
       "      <td>Part Two</td>\n",
       "      <td>DEVON ST</td>\n",
       "      <td>42.308126</td>\n",
       "      <td>-71.076930</td>\n",
       "      <td>(42.30812619, -71.07692974)</td>\n",
       "    </tr>\n",
       "    <tr>\n",
       "      <th>3</th>\n",
       "      <td>I182080051</td>\n",
       "      <td>413</td>\n",
       "      <td>Aggravated Assault</td>\n",
       "      <td>ASSAULT - AGGRAVATED - BATTERY</td>\n",
       "      <td>A1</td>\n",
       "      <td>92</td>\n",
       "      <td>NaN</td>\n",
       "      <td>2018-10-03 20:00:00</td>\n",
       "      <td>2018</td>\n",
       "      <td>10</td>\n",
       "      <td>Wednesday</td>\n",
       "      <td>20</td>\n",
       "      <td>Part One</td>\n",
       "      <td>CAMBRIDGE ST</td>\n",
       "      <td>42.359454</td>\n",
       "      <td>-71.059648</td>\n",
       "      <td>(42.35945371, -71.05964817)</td>\n",
       "    </tr>\n",
       "    <tr>\n",
       "      <th>4</th>\n",
       "      <td>I182080050</td>\n",
       "      <td>3122</td>\n",
       "      <td>Aircraft</td>\n",
       "      <td>AIRCRAFT INCIDENTS</td>\n",
       "      <td>A7</td>\n",
       "      <td>36</td>\n",
       "      <td>NaN</td>\n",
       "      <td>2018-10-03 20:49:00</td>\n",
       "      <td>2018</td>\n",
       "      <td>10</td>\n",
       "      <td>Wednesday</td>\n",
       "      <td>20</td>\n",
       "      <td>Part Three</td>\n",
       "      <td>PRESCOTT ST</td>\n",
       "      <td>42.375258</td>\n",
       "      <td>-71.024663</td>\n",
       "      <td>(42.37525782, -71.02466343)</td>\n",
       "    </tr>\n",
       "    <tr>\n",
       "      <th>5</th>\n",
       "      <td>I182080049</td>\n",
       "      <td>1402</td>\n",
       "      <td>Vandalism</td>\n",
       "      <td>VANDALISM</td>\n",
       "      <td>C11</td>\n",
       "      <td>351</td>\n",
       "      <td>NaN</td>\n",
       "      <td>2018-10-02 20:40:00</td>\n",
       "      <td>2018</td>\n",
       "      <td>10</td>\n",
       "      <td>Tuesday</td>\n",
       "      <td>20</td>\n",
       "      <td>Part Two</td>\n",
       "      <td>DORCHESTER AVE</td>\n",
       "      <td>42.299197</td>\n",
       "      <td>-71.060470</td>\n",
       "      <td>(42.29919694, -71.06046974)</td>\n",
       "    </tr>\n",
       "    <tr>\n",
       "      <th>6</th>\n",
       "      <td>I182080048</td>\n",
       "      <td>3803</td>\n",
       "      <td>Motor Vehicle Accident Response</td>\n",
       "      <td>M/V ACCIDENT - PERSONAL INJURY</td>\n",
       "      <td>NaN</td>\n",
       "      <td></td>\n",
       "      <td>NaN</td>\n",
       "      <td>2018-10-03 20:16:00</td>\n",
       "      <td>2018</td>\n",
       "      <td>10</td>\n",
       "      <td>Wednesday</td>\n",
       "      <td>20</td>\n",
       "      <td>Part Three</td>\n",
       "      <td>NaN</td>\n",
       "      <td>42.320734</td>\n",
       "      <td>-71.056764</td>\n",
       "      <td>(42.32073413, -71.05676415)</td>\n",
       "    </tr>\n",
       "    <tr>\n",
       "      <th>7</th>\n",
       "      <td>I182080047</td>\n",
       "      <td>3301</td>\n",
       "      <td>Verbal Disputes</td>\n",
       "      <td>VERBAL DISPUTE</td>\n",
       "      <td>B2</td>\n",
       "      <td>603</td>\n",
       "      <td>NaN</td>\n",
       "      <td>2018-10-03 19:32:00</td>\n",
       "      <td>2018</td>\n",
       "      <td>10</td>\n",
       "      <td>Wednesday</td>\n",
       "      <td>19</td>\n",
       "      <td>Part Three</td>\n",
       "      <td>TREMONT ST</td>\n",
       "      <td>42.333807</td>\n",
       "      <td>-71.103778</td>\n",
       "      <td>(42.33380683, -71.10377843)</td>\n",
       "    </tr>\n",
       "    <tr>\n",
       "      <th>8</th>\n",
       "      <td>I182080045</td>\n",
       "      <td>802</td>\n",
       "      <td>Simple Assault</td>\n",
       "      <td>ASSAULT SIMPLE - BATTERY</td>\n",
       "      <td>E18</td>\n",
       "      <td>543</td>\n",
       "      <td>NaN</td>\n",
       "      <td>2018-10-03 19:27:51</td>\n",
       "      <td>2018</td>\n",
       "      <td>10</td>\n",
       "      <td>Wednesday</td>\n",
       "      <td>19</td>\n",
       "      <td>Part Two</td>\n",
       "      <td>AVILA RD</td>\n",
       "      <td>42.256145</td>\n",
       "      <td>-71.128025</td>\n",
       "      <td>(42.25614494, -71.12802506)</td>\n",
       "    </tr>\n",
       "    <tr>\n",
       "      <th>9</th>\n",
       "      <td>I182080044</td>\n",
       "      <td>3410</td>\n",
       "      <td>Towed</td>\n",
       "      <td>TOWED MOTOR VEHICLE</td>\n",
       "      <td>D4</td>\n",
       "      <td>621</td>\n",
       "      <td>NaN</td>\n",
       "      <td>2018-10-03 20:00:00</td>\n",
       "      <td>2018</td>\n",
       "      <td>10</td>\n",
       "      <td>Wednesday</td>\n",
       "      <td>20</td>\n",
       "      <td>Part Three</td>\n",
       "      <td>COMMONWEALTH AVE</td>\n",
       "      <td>42.348866</td>\n",
       "      <td>-71.089363</td>\n",
       "      <td>(42.34886600, -71.08936284)</td>\n",
       "    </tr>\n",
       "  </tbody>\n",
       "</table>\n",
       "</div>"
      ],
      "text/plain": [
       "  INCIDENT_NUMBER  OFFENSE_CODE               OFFENSE_CODE_GROUP  \\\n",
       "0      I182080058          2403               Disorderly Conduct   \n",
       "1      I182080053          3201                    Property Lost   \n",
       "2      I182080052          2647                            Other   \n",
       "3      I182080051           413               Aggravated Assault   \n",
       "4      I182080050          3122                         Aircraft   \n",
       "5      I182080049          1402                        Vandalism   \n",
       "6      I182080048          3803  Motor Vehicle Accident Response   \n",
       "7      I182080047          3301                  Verbal Disputes   \n",
       "8      I182080045           802                   Simple Assault   \n",
       "9      I182080044          3410                            Towed   \n",
       "\n",
       "              OFFENSE_DESCRIPTION DISTRICT REPORTING_AREA SHOOTING  \\\n",
       "0            DISTURBING THE PEACE      E18            495      NaN   \n",
       "1                 PROPERTY - LOST      D14            795      NaN   \n",
       "2       THREATS TO DO BODILY HARM       B2            329      NaN   \n",
       "3  ASSAULT - AGGRAVATED - BATTERY       A1             92      NaN   \n",
       "4              AIRCRAFT INCIDENTS       A7             36      NaN   \n",
       "5                       VANDALISM      C11            351      NaN   \n",
       "6  M/V ACCIDENT - PERSONAL INJURY      NaN                     NaN   \n",
       "7                  VERBAL DISPUTE       B2            603      NaN   \n",
       "8        ASSAULT SIMPLE - BATTERY      E18            543      NaN   \n",
       "9             TOWED MOTOR VEHICLE       D4            621      NaN   \n",
       "\n",
       "      OCCURRED_ON_DATE  YEAR  MONTH DAY_OF_WEEK  HOUR    UCR_PART  \\\n",
       "0  2018-10-03 20:13:00  2018     10   Wednesday    20    Part Two   \n",
       "1  2018-08-30 20:00:00  2018      8    Thursday    20  Part Three   \n",
       "2  2018-10-03 19:20:00  2018     10   Wednesday    19    Part Two   \n",
       "3  2018-10-03 20:00:00  2018     10   Wednesday    20    Part One   \n",
       "4  2018-10-03 20:49:00  2018     10   Wednesday    20  Part Three   \n",
       "5  2018-10-02 20:40:00  2018     10     Tuesday    20    Part Two   \n",
       "6  2018-10-03 20:16:00  2018     10   Wednesday    20  Part Three   \n",
       "7  2018-10-03 19:32:00  2018     10   Wednesday    19  Part Three   \n",
       "8  2018-10-03 19:27:51  2018     10   Wednesday    19    Part Two   \n",
       "9  2018-10-03 20:00:00  2018     10   Wednesday    20  Part Three   \n",
       "\n",
       "             STREET        Lat       Long                     Location  \n",
       "0      ARLINGTON ST  42.262608 -71.121186  (42.26260773, -71.12118637)  \n",
       "1        ALLSTON ST  42.352111 -71.135311  (42.35211146, -71.13531147)  \n",
       "2          DEVON ST  42.308126 -71.076930  (42.30812619, -71.07692974)  \n",
       "3      CAMBRIDGE ST  42.359454 -71.059648  (42.35945371, -71.05964817)  \n",
       "4       PRESCOTT ST  42.375258 -71.024663  (42.37525782, -71.02466343)  \n",
       "5    DORCHESTER AVE  42.299197 -71.060470  (42.29919694, -71.06046974)  \n",
       "6               NaN  42.320734 -71.056764  (42.32073413, -71.05676415)  \n",
       "7        TREMONT ST  42.333807 -71.103778  (42.33380683, -71.10377843)  \n",
       "8          AVILA RD  42.256145 -71.128025  (42.25614494, -71.12802506)  \n",
       "9  COMMONWEALTH AVE  42.348866 -71.089363  (42.34886600, -71.08936284)  "
      ]
     },
     "execution_count": 3,
     "metadata": {},
     "output_type": "execute_result"
    }
   ],
   "source": [
    "crimes_df.head(10)"
   ]
  },
  {
   "cell_type": "code",
   "execution_count": 4,
   "metadata": {},
   "outputs": [
    {
     "data": {
      "text/html": [
       "<div>\n",
       "<style scoped>\n",
       "    .dataframe tbody tr th:only-of-type {\n",
       "        vertical-align: middle;\n",
       "    }\n",
       "\n",
       "    .dataframe tbody tr th {\n",
       "        vertical-align: top;\n",
       "    }\n",
       "\n",
       "    .dataframe thead th {\n",
       "        text-align: right;\n",
       "    }\n",
       "</style>\n",
       "<table border=\"1\" class=\"dataframe\">\n",
       "  <thead>\n",
       "    <tr style=\"text-align: right;\">\n",
       "      <th></th>\n",
       "      <th>INCIDENT_NUMBER</th>\n",
       "      <th>OFFENSE_CODE</th>\n",
       "      <th>OFFENSE_CODE_GROUP</th>\n",
       "      <th>OFFENSE_DESCRIPTION</th>\n",
       "      <th>DISTRICT</th>\n",
       "      <th>REPORTING_AREA</th>\n",
       "      <th>SHOOTING</th>\n",
       "      <th>OCCURRED_ON_DATE</th>\n",
       "      <th>YEAR</th>\n",
       "      <th>MONTH</th>\n",
       "      <th>DAY_OF_WEEK</th>\n",
       "      <th>HOUR</th>\n",
       "      <th>UCR_PART</th>\n",
       "      <th>STREET</th>\n",
       "      <th>Lat</th>\n",
       "      <th>Long</th>\n",
       "      <th>Location</th>\n",
       "    </tr>\n",
       "  </thead>\n",
       "  <tbody>\n",
       "    <tr>\n",
       "      <th>327810</th>\n",
       "      <td>I080542626-00</td>\n",
       "      <td>3125</td>\n",
       "      <td>Warrant Arrests</td>\n",
       "      <td>WARRANT ARREST</td>\n",
       "      <td>A1</td>\n",
       "      <td>111</td>\n",
       "      <td>NaN</td>\n",
       "      <td>2015-08-12 12:00:00</td>\n",
       "      <td>2015</td>\n",
       "      <td>8</td>\n",
       "      <td>Wednesday</td>\n",
       "      <td>12</td>\n",
       "      <td>Part Three</td>\n",
       "      <td>BOYLSTON ST</td>\n",
       "      <td>42.352312</td>\n",
       "      <td>-71.063705</td>\n",
       "      <td>(42.35231190, -71.06370510)</td>\n",
       "    </tr>\n",
       "    <tr>\n",
       "      <th>327811</th>\n",
       "      <td>I080542626-00</td>\n",
       "      <td>1848</td>\n",
       "      <td>Drug Violation</td>\n",
       "      <td>DRUGS - POSS CLASS B - INTENT TO MFR DIST DISP</td>\n",
       "      <td>A1</td>\n",
       "      <td>111</td>\n",
       "      <td>NaN</td>\n",
       "      <td>2015-08-12 12:00:00</td>\n",
       "      <td>2015</td>\n",
       "      <td>8</td>\n",
       "      <td>Wednesday</td>\n",
       "      <td>12</td>\n",
       "      <td>Part Two</td>\n",
       "      <td>BOYLSTON ST</td>\n",
       "      <td>42.352312</td>\n",
       "      <td>-71.063705</td>\n",
       "      <td>(42.35231190, -71.06370510)</td>\n",
       "    </tr>\n",
       "    <tr>\n",
       "      <th>327812</th>\n",
       "      <td>I080542626-00</td>\n",
       "      <td>1849</td>\n",
       "      <td>Drug Violation</td>\n",
       "      <td>DRUGS - POSS CLASS B - COCAINE, ETC.</td>\n",
       "      <td>A1</td>\n",
       "      <td>111</td>\n",
       "      <td>NaN</td>\n",
       "      <td>2015-08-12 12:00:00</td>\n",
       "      <td>2015</td>\n",
       "      <td>8</td>\n",
       "      <td>Wednesday</td>\n",
       "      <td>12</td>\n",
       "      <td>Part Two</td>\n",
       "      <td>BOYLSTON ST</td>\n",
       "      <td>42.352312</td>\n",
       "      <td>-71.063705</td>\n",
       "      <td>(42.35231190, -71.06370510)</td>\n",
       "    </tr>\n",
       "    <tr>\n",
       "      <th>327813</th>\n",
       "      <td>I060168073-00</td>\n",
       "      <td>1864</td>\n",
       "      <td>Drug Violation</td>\n",
       "      <td>DRUGS - POSS CLASS D - INTENT MFR DIST DISP</td>\n",
       "      <td>E13</td>\n",
       "      <td>912</td>\n",
       "      <td>NaN</td>\n",
       "      <td>2018-01-27 14:01:00</td>\n",
       "      <td>2018</td>\n",
       "      <td>1</td>\n",
       "      <td>Saturday</td>\n",
       "      <td>14</td>\n",
       "      <td>Part Two</td>\n",
       "      <td>CENTRE ST</td>\n",
       "      <td>42.322838</td>\n",
       "      <td>-71.100967</td>\n",
       "      <td>(42.32283759, -71.10096723)</td>\n",
       "    </tr>\n",
       "    <tr>\n",
       "      <th>327814</th>\n",
       "      <td>I060168073-00</td>\n",
       "      <td>3125</td>\n",
       "      <td>Warrant Arrests</td>\n",
       "      <td>WARRANT ARREST</td>\n",
       "      <td>E13</td>\n",
       "      <td>912</td>\n",
       "      <td>NaN</td>\n",
       "      <td>2018-01-27 14:01:00</td>\n",
       "      <td>2018</td>\n",
       "      <td>1</td>\n",
       "      <td>Saturday</td>\n",
       "      <td>14</td>\n",
       "      <td>Part Three</td>\n",
       "      <td>CENTRE ST</td>\n",
       "      <td>42.322838</td>\n",
       "      <td>-71.100967</td>\n",
       "      <td>(42.32283759, -71.10096723)</td>\n",
       "    </tr>\n",
       "    <tr>\n",
       "      <th>327815</th>\n",
       "      <td>I050310906-00</td>\n",
       "      <td>3125</td>\n",
       "      <td>Warrant Arrests</td>\n",
       "      <td>WARRANT ARREST</td>\n",
       "      <td>D4</td>\n",
       "      <td>285</td>\n",
       "      <td>NaN</td>\n",
       "      <td>2016-06-05 17:25:00</td>\n",
       "      <td>2016</td>\n",
       "      <td>6</td>\n",
       "      <td>Sunday</td>\n",
       "      <td>17</td>\n",
       "      <td>Part Three</td>\n",
       "      <td>COVENTRY ST</td>\n",
       "      <td>42.336951</td>\n",
       "      <td>-71.085748</td>\n",
       "      <td>(42.33695098, -71.08574813)</td>\n",
       "    </tr>\n",
       "    <tr>\n",
       "      <th>327816</th>\n",
       "      <td>I030217815-08</td>\n",
       "      <td>111</td>\n",
       "      <td>Homicide</td>\n",
       "      <td>MURDER, NON-NEGLIGIENT MANSLAUGHTER</td>\n",
       "      <td>E18</td>\n",
       "      <td>520</td>\n",
       "      <td>NaN</td>\n",
       "      <td>2015-07-09 13:38:00</td>\n",
       "      <td>2015</td>\n",
       "      <td>7</td>\n",
       "      <td>Thursday</td>\n",
       "      <td>13</td>\n",
       "      <td>Part One</td>\n",
       "      <td>RIVER ST</td>\n",
       "      <td>42.255926</td>\n",
       "      <td>-71.123172</td>\n",
       "      <td>(42.25592648, -71.12317207)</td>\n",
       "    </tr>\n",
       "    <tr>\n",
       "      <th>327817</th>\n",
       "      <td>I030217815-08</td>\n",
       "      <td>3125</td>\n",
       "      <td>Warrant Arrests</td>\n",
       "      <td>WARRANT ARREST</td>\n",
       "      <td>E18</td>\n",
       "      <td>520</td>\n",
       "      <td>NaN</td>\n",
       "      <td>2015-07-09 13:38:00</td>\n",
       "      <td>2015</td>\n",
       "      <td>7</td>\n",
       "      <td>Thursday</td>\n",
       "      <td>13</td>\n",
       "      <td>Part Three</td>\n",
       "      <td>RIVER ST</td>\n",
       "      <td>42.255926</td>\n",
       "      <td>-71.123172</td>\n",
       "      <td>(42.25592648, -71.12317207)</td>\n",
       "    </tr>\n",
       "    <tr>\n",
       "      <th>327818</th>\n",
       "      <td>I010370257-00</td>\n",
       "      <td>3125</td>\n",
       "      <td>Warrant Arrests</td>\n",
       "      <td>WARRANT ARREST</td>\n",
       "      <td>E13</td>\n",
       "      <td>569</td>\n",
       "      <td>NaN</td>\n",
       "      <td>2016-05-31 19:35:00</td>\n",
       "      <td>2016</td>\n",
       "      <td>5</td>\n",
       "      <td>Tuesday</td>\n",
       "      <td>19</td>\n",
       "      <td>Part Three</td>\n",
       "      <td>NEW WASHINGTON ST</td>\n",
       "      <td>42.302333</td>\n",
       "      <td>-71.111565</td>\n",
       "      <td>(42.30233307, -71.11156487)</td>\n",
       "    </tr>\n",
       "    <tr>\n",
       "      <th>327819</th>\n",
       "      <td>142052550</td>\n",
       "      <td>3125</td>\n",
       "      <td>Warrant Arrests</td>\n",
       "      <td>WARRANT ARREST</td>\n",
       "      <td>D4</td>\n",
       "      <td>903</td>\n",
       "      <td>NaN</td>\n",
       "      <td>2015-06-22 00:12:00</td>\n",
       "      <td>2015</td>\n",
       "      <td>6</td>\n",
       "      <td>Monday</td>\n",
       "      <td>0</td>\n",
       "      <td>Part Three</td>\n",
       "      <td>WASHINGTON ST</td>\n",
       "      <td>42.333839</td>\n",
       "      <td>-71.080290</td>\n",
       "      <td>(42.33383935, -71.08029038)</td>\n",
       "    </tr>\n",
       "  </tbody>\n",
       "</table>\n",
       "</div>"
      ],
      "text/plain": [
       "       INCIDENT_NUMBER  OFFENSE_CODE OFFENSE_CODE_GROUP  \\\n",
       "327810   I080542626-00          3125    Warrant Arrests   \n",
       "327811   I080542626-00          1848     Drug Violation   \n",
       "327812   I080542626-00          1849     Drug Violation   \n",
       "327813   I060168073-00          1864     Drug Violation   \n",
       "327814   I060168073-00          3125    Warrant Arrests   \n",
       "327815   I050310906-00          3125    Warrant Arrests   \n",
       "327816   I030217815-08           111           Homicide   \n",
       "327817   I030217815-08          3125    Warrant Arrests   \n",
       "327818   I010370257-00          3125    Warrant Arrests   \n",
       "327819       142052550          3125    Warrant Arrests   \n",
       "\n",
       "                                   OFFENSE_DESCRIPTION DISTRICT  \\\n",
       "327810                                  WARRANT ARREST       A1   \n",
       "327811  DRUGS - POSS CLASS B - INTENT TO MFR DIST DISP       A1   \n",
       "327812            DRUGS - POSS CLASS B - COCAINE, ETC.       A1   \n",
       "327813     DRUGS - POSS CLASS D - INTENT MFR DIST DISP      E13   \n",
       "327814                                  WARRANT ARREST      E13   \n",
       "327815                                  WARRANT ARREST       D4   \n",
       "327816             MURDER, NON-NEGLIGIENT MANSLAUGHTER      E18   \n",
       "327817                                  WARRANT ARREST      E18   \n",
       "327818                                  WARRANT ARREST      E13   \n",
       "327819                                  WARRANT ARREST       D4   \n",
       "\n",
       "       REPORTING_AREA SHOOTING     OCCURRED_ON_DATE  YEAR  MONTH DAY_OF_WEEK  \\\n",
       "327810            111      NaN  2015-08-12 12:00:00  2015      8   Wednesday   \n",
       "327811            111      NaN  2015-08-12 12:00:00  2015      8   Wednesday   \n",
       "327812            111      NaN  2015-08-12 12:00:00  2015      8   Wednesday   \n",
       "327813            912      NaN  2018-01-27 14:01:00  2018      1    Saturday   \n",
       "327814            912      NaN  2018-01-27 14:01:00  2018      1    Saturday   \n",
       "327815            285      NaN  2016-06-05 17:25:00  2016      6      Sunday   \n",
       "327816            520      NaN  2015-07-09 13:38:00  2015      7    Thursday   \n",
       "327817            520      NaN  2015-07-09 13:38:00  2015      7    Thursday   \n",
       "327818            569      NaN  2016-05-31 19:35:00  2016      5     Tuesday   \n",
       "327819            903      NaN  2015-06-22 00:12:00  2015      6      Monday   \n",
       "\n",
       "        HOUR    UCR_PART             STREET        Lat       Long  \\\n",
       "327810    12  Part Three        BOYLSTON ST  42.352312 -71.063705   \n",
       "327811    12    Part Two        BOYLSTON ST  42.352312 -71.063705   \n",
       "327812    12    Part Two        BOYLSTON ST  42.352312 -71.063705   \n",
       "327813    14    Part Two          CENTRE ST  42.322838 -71.100967   \n",
       "327814    14  Part Three          CENTRE ST  42.322838 -71.100967   \n",
       "327815    17  Part Three        COVENTRY ST  42.336951 -71.085748   \n",
       "327816    13    Part One           RIVER ST  42.255926 -71.123172   \n",
       "327817    13  Part Three           RIVER ST  42.255926 -71.123172   \n",
       "327818    19  Part Three  NEW WASHINGTON ST  42.302333 -71.111565   \n",
       "327819     0  Part Three      WASHINGTON ST  42.333839 -71.080290   \n",
       "\n",
       "                           Location  \n",
       "327810  (42.35231190, -71.06370510)  \n",
       "327811  (42.35231190, -71.06370510)  \n",
       "327812  (42.35231190, -71.06370510)  \n",
       "327813  (42.32283759, -71.10096723)  \n",
       "327814  (42.32283759, -71.10096723)  \n",
       "327815  (42.33695098, -71.08574813)  \n",
       "327816  (42.25592648, -71.12317207)  \n",
       "327817  (42.25592648, -71.12317207)  \n",
       "327818  (42.30233307, -71.11156487)  \n",
       "327819  (42.33383935, -71.08029038)  "
      ]
     },
     "execution_count": 4,
     "metadata": {},
     "output_type": "execute_result"
    }
   ],
   "source": [
    "crimes_df.tail(10)"
   ]
  },
  {
   "cell_type": "markdown",
   "metadata": {},
   "source": [
    "Lo primero que vamos a ver es las dimensiones y tipos que tienen los diferentes atributos del conjunto de datos.\n",
    "\n",
    "Además veremos un resumen de los datos que tenemos en el momento de cargar los datos."
   ]
  },
  {
   "cell_type": "code",
   "execution_count": 5,
   "metadata": {},
   "outputs": [
    {
     "name": "stdout",
     "output_type": "stream",
     "text": [
      "Las dimensines del archivo son: \n",
      "(327820, 17)\n",
      "Los tipos son los siguientes: \n",
      "INCIDENT_NUMBER         object\n",
      "OFFENSE_CODE             int64\n",
      "OFFENSE_CODE_GROUP      object\n",
      "OFFENSE_DESCRIPTION     object\n",
      "DISTRICT                object\n",
      "REPORTING_AREA          object\n",
      "SHOOTING                object\n",
      "OCCURRED_ON_DATE        object\n",
      "YEAR                     int64\n",
      "MONTH                    int64\n",
      "DAY_OF_WEEK             object\n",
      "HOUR                     int64\n",
      "UCR_PART                object\n",
      "STREET                  object\n",
      "Lat                    float64\n",
      "Long                   float64\n",
      "Location                object\n",
      "dtype: object\n"
     ]
    }
   ],
   "source": [
    "print('Las dimensines del archivo son: ' )\n",
    "print (crimes_df.shape)\n",
    "print('Los tipos son los siguientes: ')\n",
    "print(crimes_df.dtypes)"
   ]
  },
  {
   "cell_type": "markdown",
   "metadata": {},
   "source": [
    "Vamos a ver lo primero si hay elementos duplicados y eliminaremos estos como primera modificación del conjunto original descargado."
   ]
  },
  {
   "cell_type": "code",
   "execution_count": 6,
   "metadata": {},
   "outputs": [
    {
     "name": "stdout",
     "output_type": "stream",
     "text": [
      "¿Hay duplicados?\n",
      "True\n",
      "Número de elementos tras eliminar los duplicados: 327797\n"
     ]
    }
   ],
   "source": [
    "print(\"¿Hay duplicados?\")\n",
    "print (not (crimes_df.drop_duplicates().shape[0] == crimes_df.shape[0]))\n",
    "crimes_df = crimes_df.drop_duplicates()\n",
    "print(\"Número de elementos tras eliminar los duplicados: \"+ str (crimes_df.shape[0]))"
   ]
  },
  {
   "cell_type": "code",
   "execution_count": 7,
   "metadata": {},
   "outputs": [
    {
     "data": {
      "text/html": [
       "<div>\n",
       "<style scoped>\n",
       "    .dataframe tbody tr th:only-of-type {\n",
       "        vertical-align: middle;\n",
       "    }\n",
       "\n",
       "    .dataframe tbody tr th {\n",
       "        vertical-align: top;\n",
       "    }\n",
       "\n",
       "    .dataframe thead th {\n",
       "        text-align: right;\n",
       "    }\n",
       "</style>\n",
       "<table border=\"1\" class=\"dataframe\">\n",
       "  <thead>\n",
       "    <tr style=\"text-align: right;\">\n",
       "      <th></th>\n",
       "      <th>INCIDENT_NUMBER</th>\n",
       "      <th>OFFENSE_CODE</th>\n",
       "      <th>OFFENSE_CODE_GROUP</th>\n",
       "      <th>OFFENSE_DESCRIPTION</th>\n",
       "      <th>DISTRICT</th>\n",
       "      <th>REPORTING_AREA</th>\n",
       "      <th>SHOOTING</th>\n",
       "      <th>OCCURRED_ON_DATE</th>\n",
       "      <th>YEAR</th>\n",
       "      <th>MONTH</th>\n",
       "      <th>DAY_OF_WEEK</th>\n",
       "      <th>HOUR</th>\n",
       "      <th>UCR_PART</th>\n",
       "      <th>STREET</th>\n",
       "      <th>Lat</th>\n",
       "      <th>Long</th>\n",
       "      <th>Location</th>\n",
       "    </tr>\n",
       "  </thead>\n",
       "  <tbody>\n",
       "    <tr>\n",
       "      <th>count</th>\n",
       "      <td>327797</td>\n",
       "      <td>327797.000000</td>\n",
       "      <td>327797</td>\n",
       "      <td>327797</td>\n",
       "      <td>326023</td>\n",
       "      <td>327797</td>\n",
       "      <td>1055</td>\n",
       "      <td>327797</td>\n",
       "      <td>327797.000000</td>\n",
       "      <td>327797.000000</td>\n",
       "      <td>327797</td>\n",
       "      <td>327797.000000</td>\n",
       "      <td>327704</td>\n",
       "      <td>316820</td>\n",
       "      <td>307166.000000</td>\n",
       "      <td>307166.000000</td>\n",
       "      <td>327797</td>\n",
       "    </tr>\n",
       "    <tr>\n",
       "      <th>unique</th>\n",
       "      <td>290156</td>\n",
       "      <td>NaN</td>\n",
       "      <td>67</td>\n",
       "      <td>244</td>\n",
       "      <td>12</td>\n",
       "      <td>880</td>\n",
       "      <td>1</td>\n",
       "      <td>239364</td>\n",
       "      <td>NaN</td>\n",
       "      <td>NaN</td>\n",
       "      <td>7</td>\n",
       "      <td>NaN</td>\n",
       "      <td>4</td>\n",
       "      <td>4684</td>\n",
       "      <td>NaN</td>\n",
       "      <td>NaN</td>\n",
       "      <td>18255</td>\n",
       "    </tr>\n",
       "    <tr>\n",
       "      <th>top</th>\n",
       "      <td>I162030584</td>\n",
       "      <td>NaN</td>\n",
       "      <td>Motor Vehicle Accident Response</td>\n",
       "      <td>SICK/INJURED/MEDICAL - PERSON</td>\n",
       "      <td>B2</td>\n",
       "      <td></td>\n",
       "      <td>Y</td>\n",
       "      <td>2016-08-01 00:00:00</td>\n",
       "      <td>NaN</td>\n",
       "      <td>NaN</td>\n",
       "      <td>Friday</td>\n",
       "      <td>NaN</td>\n",
       "      <td>Part Three</td>\n",
       "      <td>WASHINGTON ST</td>\n",
       "      <td>NaN</td>\n",
       "      <td>NaN</td>\n",
       "      <td>(0.00000000, 0.00000000)</td>\n",
       "    </tr>\n",
       "    <tr>\n",
       "      <th>freq</th>\n",
       "      <td>13</td>\n",
       "      <td>NaN</td>\n",
       "      <td>38134</td>\n",
       "      <td>19360</td>\n",
       "      <td>51283</td>\n",
       "      <td>20920</td>\n",
       "      <td>1055</td>\n",
       "      <td>29</td>\n",
       "      <td>NaN</td>\n",
       "      <td>NaN</td>\n",
       "      <td>49752</td>\n",
       "      <td>NaN</td>\n",
       "      <td>162912</td>\n",
       "      <td>14588</td>\n",
       "      <td>NaN</td>\n",
       "      <td>NaN</td>\n",
       "      <td>20631</td>\n",
       "    </tr>\n",
       "    <tr>\n",
       "      <th>mean</th>\n",
       "      <td>NaN</td>\n",
       "      <td>2317.932001</td>\n",
       "      <td>NaN</td>\n",
       "      <td>NaN</td>\n",
       "      <td>NaN</td>\n",
       "      <td>NaN</td>\n",
       "      <td>NaN</td>\n",
       "      <td>NaN</td>\n",
       "      <td>2016.598764</td>\n",
       "      <td>6.672123</td>\n",
       "      <td>NaN</td>\n",
       "      <td>13.114812</td>\n",
       "      <td>NaN</td>\n",
       "      <td>NaN</td>\n",
       "      <td>42.212987</td>\n",
       "      <td>-70.906018</td>\n",
       "      <td>NaN</td>\n",
       "    </tr>\n",
       "    <tr>\n",
       "      <th>std</th>\n",
       "      <td>NaN</td>\n",
       "      <td>1185.012823</td>\n",
       "      <td>NaN</td>\n",
       "      <td>NaN</td>\n",
       "      <td>NaN</td>\n",
       "      <td>NaN</td>\n",
       "      <td>NaN</td>\n",
       "      <td>NaN</td>\n",
       "      <td>1.009742</td>\n",
       "      <td>3.253971</td>\n",
       "      <td>NaN</td>\n",
       "      <td>6.292765</td>\n",
       "      <td>NaN</td>\n",
       "      <td>NaN</td>\n",
       "      <td>2.173574</td>\n",
       "      <td>3.515958</td>\n",
       "      <td>NaN</td>\n",
       "    </tr>\n",
       "    <tr>\n",
       "      <th>min</th>\n",
       "      <td>NaN</td>\n",
       "      <td>111.000000</td>\n",
       "      <td>NaN</td>\n",
       "      <td>NaN</td>\n",
       "      <td>NaN</td>\n",
       "      <td>NaN</td>\n",
       "      <td>NaN</td>\n",
       "      <td>NaN</td>\n",
       "      <td>2015.000000</td>\n",
       "      <td>1.000000</td>\n",
       "      <td>NaN</td>\n",
       "      <td>0.000000</td>\n",
       "      <td>NaN</td>\n",
       "      <td>NaN</td>\n",
       "      <td>-1.000000</td>\n",
       "      <td>-71.178674</td>\n",
       "      <td>NaN</td>\n",
       "    </tr>\n",
       "    <tr>\n",
       "      <th>25%</th>\n",
       "      <td>NaN</td>\n",
       "      <td>1001.000000</td>\n",
       "      <td>NaN</td>\n",
       "      <td>NaN</td>\n",
       "      <td>NaN</td>\n",
       "      <td>NaN</td>\n",
       "      <td>NaN</td>\n",
       "      <td>NaN</td>\n",
       "      <td>2016.000000</td>\n",
       "      <td>4.000000</td>\n",
       "      <td>NaN</td>\n",
       "      <td>9.000000</td>\n",
       "      <td>NaN</td>\n",
       "      <td>NaN</td>\n",
       "      <td>42.297466</td>\n",
       "      <td>-71.097081</td>\n",
       "      <td>NaN</td>\n",
       "    </tr>\n",
       "    <tr>\n",
       "      <th>50%</th>\n",
       "      <td>NaN</td>\n",
       "      <td>2907.000000</td>\n",
       "      <td>NaN</td>\n",
       "      <td>NaN</td>\n",
       "      <td>NaN</td>\n",
       "      <td>NaN</td>\n",
       "      <td>NaN</td>\n",
       "      <td>NaN</td>\n",
       "      <td>2017.000000</td>\n",
       "      <td>7.000000</td>\n",
       "      <td>NaN</td>\n",
       "      <td>14.000000</td>\n",
       "      <td>NaN</td>\n",
       "      <td>NaN</td>\n",
       "      <td>42.325552</td>\n",
       "      <td>-71.077493</td>\n",
       "      <td>NaN</td>\n",
       "    </tr>\n",
       "    <tr>\n",
       "      <th>75%</th>\n",
       "      <td>NaN</td>\n",
       "      <td>3201.000000</td>\n",
       "      <td>NaN</td>\n",
       "      <td>NaN</td>\n",
       "      <td>NaN</td>\n",
       "      <td>NaN</td>\n",
       "      <td>NaN</td>\n",
       "      <td>NaN</td>\n",
       "      <td>2017.000000</td>\n",
       "      <td>9.000000</td>\n",
       "      <td>NaN</td>\n",
       "      <td>18.000000</td>\n",
       "      <td>NaN</td>\n",
       "      <td>NaN</td>\n",
       "      <td>42.348624</td>\n",
       "      <td>-71.062482</td>\n",
       "      <td>NaN</td>\n",
       "    </tr>\n",
       "    <tr>\n",
       "      <th>max</th>\n",
       "      <td>NaN</td>\n",
       "      <td>3831.000000</td>\n",
       "      <td>NaN</td>\n",
       "      <td>NaN</td>\n",
       "      <td>NaN</td>\n",
       "      <td>NaN</td>\n",
       "      <td>NaN</td>\n",
       "      <td>NaN</td>\n",
       "      <td>2018.000000</td>\n",
       "      <td>12.000000</td>\n",
       "      <td>NaN</td>\n",
       "      <td>23.000000</td>\n",
       "      <td>NaN</td>\n",
       "      <td>NaN</td>\n",
       "      <td>42.395042</td>\n",
       "      <td>-1.000000</td>\n",
       "      <td>NaN</td>\n",
       "    </tr>\n",
       "  </tbody>\n",
       "</table>\n",
       "</div>"
      ],
      "text/plain": [
       "       INCIDENT_NUMBER   OFFENSE_CODE               OFFENSE_CODE_GROUP  \\\n",
       "count           327797  327797.000000                           327797   \n",
       "unique          290156            NaN                               67   \n",
       "top         I162030584            NaN  Motor Vehicle Accident Response   \n",
       "freq                13            NaN                            38134   \n",
       "mean               NaN    2317.932001                              NaN   \n",
       "std                NaN    1185.012823                              NaN   \n",
       "min                NaN     111.000000                              NaN   \n",
       "25%                NaN    1001.000000                              NaN   \n",
       "50%                NaN    2907.000000                              NaN   \n",
       "75%                NaN    3201.000000                              NaN   \n",
       "max                NaN    3831.000000                              NaN   \n",
       "\n",
       "                  OFFENSE_DESCRIPTION DISTRICT REPORTING_AREA SHOOTING  \\\n",
       "count                          327797   326023         327797     1055   \n",
       "unique                            244       12            880        1   \n",
       "top     SICK/INJURED/MEDICAL - PERSON       B2                       Y   \n",
       "freq                            19360    51283          20920     1055   \n",
       "mean                              NaN      NaN            NaN      NaN   \n",
       "std                               NaN      NaN            NaN      NaN   \n",
       "min                               NaN      NaN            NaN      NaN   \n",
       "25%                               NaN      NaN            NaN      NaN   \n",
       "50%                               NaN      NaN            NaN      NaN   \n",
       "75%                               NaN      NaN            NaN      NaN   \n",
       "max                               NaN      NaN            NaN      NaN   \n",
       "\n",
       "           OCCURRED_ON_DATE           YEAR          MONTH DAY_OF_WEEK  \\\n",
       "count                327797  327797.000000  327797.000000      327797   \n",
       "unique               239364            NaN            NaN           7   \n",
       "top     2016-08-01 00:00:00            NaN            NaN      Friday   \n",
       "freq                     29            NaN            NaN       49752   \n",
       "mean                    NaN    2016.598764       6.672123         NaN   \n",
       "std                     NaN       1.009742       3.253971         NaN   \n",
       "min                     NaN    2015.000000       1.000000         NaN   \n",
       "25%                     NaN    2016.000000       4.000000         NaN   \n",
       "50%                     NaN    2017.000000       7.000000         NaN   \n",
       "75%                     NaN    2017.000000       9.000000         NaN   \n",
       "max                     NaN    2018.000000      12.000000         NaN   \n",
       "\n",
       "                 HOUR    UCR_PART         STREET            Lat  \\\n",
       "count   327797.000000      327704         316820  307166.000000   \n",
       "unique            NaN           4           4684            NaN   \n",
       "top               NaN  Part Three  WASHINGTON ST            NaN   \n",
       "freq              NaN      162912          14588            NaN   \n",
       "mean        13.114812         NaN            NaN      42.212987   \n",
       "std          6.292765         NaN            NaN       2.173574   \n",
       "min          0.000000         NaN            NaN      -1.000000   \n",
       "25%          9.000000         NaN            NaN      42.297466   \n",
       "50%         14.000000         NaN            NaN      42.325552   \n",
       "75%         18.000000         NaN            NaN      42.348624   \n",
       "max         23.000000         NaN            NaN      42.395042   \n",
       "\n",
       "                 Long                  Location  \n",
       "count   307166.000000                    327797  \n",
       "unique            NaN                     18255  \n",
       "top               NaN  (0.00000000, 0.00000000)  \n",
       "freq              NaN                     20631  \n",
       "mean       -70.906018                       NaN  \n",
       "std          3.515958                       NaN  \n",
       "min        -71.178674                       NaN  \n",
       "25%        -71.097081                       NaN  \n",
       "50%        -71.077493                       NaN  \n",
       "75%        -71.062482                       NaN  \n",
       "max         -1.000000                       NaN  "
      ]
     },
     "execution_count": 7,
     "metadata": {},
     "output_type": "execute_result"
    }
   ],
   "source": [
    "crimes_df.describe(include='all')"
   ]
  },
  {
   "cell_type": "markdown",
   "metadata": {},
   "source": [
    "Veremos que elementos tienen elementos nulos, como podemos ver nos faltan por determinar algunos district, UCT_PART y street. \n",
    "\n",
    "Aunque parezca que faltan datos de shooting por la información de donde se han obtenido los datos podemos ver que los nulos es que no se han producido disparos."
   ]
  },
  {
   "cell_type": "code",
   "execution_count": 8,
   "metadata": {},
   "outputs": [
    {
     "name": "stdout",
     "output_type": "stream",
     "text": [
      "¿Hay elementos nulls?\n"
     ]
    },
    {
     "data": {
      "text/plain": [
       "INCIDENT_NUMBER             0\n",
       "OFFENSE_CODE                0\n",
       "OFFENSE_CODE_GROUP          0\n",
       "OFFENSE_DESCRIPTION         0\n",
       "DISTRICT                 1774\n",
       "REPORTING_AREA              0\n",
       "SHOOTING               326742\n",
       "OCCURRED_ON_DATE            0\n",
       "YEAR                        0\n",
       "MONTH                       0\n",
       "DAY_OF_WEEK                 0\n",
       "HOUR                        0\n",
       "UCR_PART                   93\n",
       "STREET                  10977\n",
       "Lat                     20631\n",
       "Long                    20631\n",
       "Location                    0\n",
       "dtype: int64"
      ]
     },
     "execution_count": 8,
     "metadata": {},
     "output_type": "execute_result"
    }
   ],
   "source": [
    "print('¿Hay elementos nulls?')\n",
    "crimes_df.isnull().sum()"
   ]
  },
  {
   "cell_type": "markdown",
   "metadata": {},
   "source": [
    "Analicemos con detalle que ocurre en los casos que no tenemos ni latitud ni longitud"
   ]
  },
  {
   "cell_type": "code",
   "execution_count": 9,
   "metadata": {},
   "outputs": [
    {
     "name": "stdout",
     "output_type": "stream",
     "text": [
      "¿Todos los que no tienen Longitud, no tienen la latitud?\n",
      "True\n",
      "¿Cómo son los elementos con latitus y longitud que tienen nulos?\n",
      "    INCIDENT_NUMBER  OFFENSE_CODE  OFFENSE_CODE_GROUP  \\\n",
      "150      I182079891           413  Aggravated Assault   \n",
      "151      I182079891          3125     Warrant Arrests   \n",
      "216      I182079820          1402           Vandalism   \n",
      "220      I182079816          1402           Vandalism   \n",
      "248      I182079784           802      Simple Assault   \n",
      "\n",
      "                OFFENSE_DESCRIPTION DISTRICT REPORTING_AREA SHOOTING  \\\n",
      "150  ASSAULT - AGGRAVATED - BATTERY       C6                     NaN   \n",
      "151                  WARRANT ARREST       C6                     NaN   \n",
      "216                       VANDALISM      C11                     NaN   \n",
      "220                       VANDALISM      C11                     NaN   \n",
      "248        ASSAULT SIMPLE - BATTERY      C11            355      NaN   \n",
      "\n",
      "        OCCURRED_ON_DATE  YEAR  MONTH DAY_OF_WEEK  HOUR    UCR_PART  \\\n",
      "150  2018-10-03 12:53:00  2018     10   Wednesday    12    Part One   \n",
      "151  2018-10-03 12:53:00  2018     10   Wednesday    12  Part Three   \n",
      "216  2018-10-03 05:00:00  2018     10   Wednesday     5    Part Two   \n",
      "220  2018-10-02 20:00:00  2018     10     Tuesday    20    Part Two   \n",
      "248  2018-10-03 03:07:00  2018     10   Wednesday     3    Part Two   \n",
      "\n",
      "            STREET  Lat  Long                  Location  \n",
      "150  DORCHESTER ST  NaN   NaN  (0.00000000, 0.00000000)  \n",
      "151  DORCHESTER ST  NaN   NaN  (0.00000000, 0.00000000)  \n",
      "216     BOWDOIN ST  NaN   NaN  (0.00000000, 0.00000000)  \n",
      "220     BOWDOIN ST  NaN   NaN  (0.00000000, 0.00000000)  \n",
      "248            NaN  NaN   NaN  (0.00000000, 0.00000000)  \n",
      "De los que tienen latitud y longitud nula, ¿hay alguno que tengamos la información en la location?\n",
      "Empty DataFrame\n",
      "Columns: [INCIDENT_NUMBER, OFFENSE_CODE, OFFENSE_CODE_GROUP, OFFENSE_DESCRIPTION, DISTRICT, REPORTING_AREA, SHOOTING, OCCURRED_ON_DATE, YEAR, MONTH, DAY_OF_WEEK, HOUR, UCR_PART, STREET, Lat, Long, Location]\n",
      "Index: []\n",
      "De los que tienen latitud y longitud nula, ¿cuántos no tienen DISTRICT?\n",
      "294\n"
     ]
    },
    {
     "name": "stderr",
     "output_type": "stream",
     "text": [
      "C:\\ProgramData\\Anaconda3\\lib\\site-packages\\ipykernel_launcher.py:9: UserWarning: Boolean Series key will be reindexed to match DataFrame index.\n",
      "  if __name__ == '__main__':\n"
     ]
    }
   ],
   "source": [
    "print(\"¿Todos los que no tienen Longitud, no tienen la latitud?\")\n",
    "print(crimes_df[crimes_df[\"Lat\"].isnull()].isnull().sum()['Lat'] \n",
    "      == crimes_df[crimes_df[\"Long\"].isnull()].isnull().sum()['Long']\n",
    "      and crimes_df.isnull().sum()['Lat'] \n",
    "      == crimes_df[crimes_df[\"Long\"].isnull()].isnull().sum()['Long'])\n",
    "print (\"¿Cómo son los elementos con latitus y longitud que tienen nulos?\")\n",
    "print(crimes_df[crimes_df[\"Lat\"].isnull()].head(5))\n",
    "print(\"De los que tienen latitud y longitud nula, ¿hay alguno que tengamos la información en la location?\")\n",
    "print(crimes_df[crimes_df[\"Lat\"].isnull()][crimes_df[\"Location\"] != \"(0.00000000, 0.00000000)\"])\n",
    "print(\"De los que tienen latitud y longitud nula, ¿cuántos no tienen DISTRICT?\")\n",
    "print(crimes_df[crimes_df[\"Lat\"].isnull()].isnull().sum()['DISTRICT'])"
   ]
  },
  {
   "cell_type": "markdown",
   "metadata": {},
   "source": [
    "Estos elementos que no tenemos información del distrito ni de la localización vamos a eliminarlos del conjunto de datos."
   ]
  },
  {
   "cell_type": "code",
   "execution_count": 10,
   "metadata": {},
   "outputs": [
    {
     "name": "stdout",
     "output_type": "stream",
     "text": [
      "Número de elementos tras eliminarlos: 327503\n"
     ]
    },
    {
     "name": "stderr",
     "output_type": "stream",
     "text": [
      "C:\\ProgramData\\Anaconda3\\lib\\site-packages\\ipykernel_launcher.py:1: SettingWithCopyWarning: \n",
      "A value is trying to be set on a copy of a slice from a DataFrame\n",
      "\n",
      "See the caveats in the documentation: https://pandas.pydata.org/pandas-docs/stable/user_guide/indexing.html#returning-a-view-versus-a-copy\n",
      "  \"\"\"Entry point for launching an IPython kernel.\n"
     ]
    }
   ],
   "source": [
    "crimes_df.dropna(subset=['Lat', 'DISTRICT'], how='all', inplace=True)\n",
    "print(\"Número de elementos tras eliminarlos: \"+ str (crimes_df.shape[0]))"
   ]
  },
  {
   "cell_type": "markdown",
   "metadata": {},
   "source": [
    "Queda por decidir que hacer con los elementos que no tenemos el distrito, pero tenemos las coordenadas. Debido al bajo porcentaje de estos casos (inferior al 1%) se decide por eliminar estos casos."
   ]
  },
  {
   "cell_type": "code",
   "execution_count": 11,
   "metadata": {},
   "outputs": [
    {
     "name": "stdout",
     "output_type": "stream",
     "text": [
      "Porcentaje de elementos sin distrito: 0.4519042573655814\n",
      "Número de elementos tras eliminarlos: 326023\n"
     ]
    },
    {
     "name": "stderr",
     "output_type": "stream",
     "text": [
      "C:\\ProgramData\\Anaconda3\\lib\\site-packages\\ipykernel_launcher.py:2: SettingWithCopyWarning: \n",
      "A value is trying to be set on a copy of a slice from a DataFrame\n",
      "\n",
      "See the caveats in the documentation: https://pandas.pydata.org/pandas-docs/stable/user_guide/indexing.html#returning-a-view-versus-a-copy\n",
      "  \n"
     ]
    }
   ],
   "source": [
    "print('Porcentaje de elementos sin distrito: ' +str(crimes_df.isnull().sum()['DISTRICT']*100/crimes_df.shape[0]))\n",
    "crimes_df.dropna(subset=['DISTRICT'], how='all', inplace=True)\n",
    "print(\"Número de elementos tras eliminarlos: \"+ str (crimes_df.shape[0]))"
   ]
  },
  {
   "cell_type": "markdown",
   "metadata": {},
   "source": [
    "Veamos si hay mas anomalías en las coordenadas que quedan."
   ]
  },
  {
   "cell_type": "code",
   "execution_count": 12,
   "metadata": {},
   "outputs": [
    {
     "data": {
      "text/plain": [
       "<matplotlib.axes._subplots.AxesSubplot at 0x186ff2d88c8>"
      ]
     },
     "execution_count": 12,
     "metadata": {},
     "output_type": "execute_result"
    },
    {
     "data": {
      "image/png": "[encoded data removed]",
      "text/plain": [
       "<Figure size 432x288 with 1 Axes>"
      ]
     },
     "metadata": {
      "needs_background": "light"
     },
     "output_type": "display_data"
    }
   ],
   "source": [
    "sns.boxplot(y= crimes_df['Lat'])"
   ]
  },
  {
   "cell_type": "code",
   "execution_count": 13,
   "metadata": {},
   "outputs": [
    {
     "data": {
      "text/plain": [
       "<matplotlib.axes._subplots.AxesSubplot at 0x186ff30e848>"
      ]
     },
     "execution_count": 13,
     "metadata": {},
     "output_type": "execute_result"
    },
    {
     "data": {
      "image/png": "[encoded data removed]",
      "text/plain": [
       "<Figure size 432x288 with 1 Axes>"
      ]
     },
     "metadata": {
      "needs_background": "light"
     },
     "output_type": "display_data"
    }
   ],
   "source": [
    "sns.boxplot(y= crimes_df['Long'])"
   ]
  },
  {
   "cell_type": "markdown",
   "metadata": {},
   "source": [
    "Vemos que existen outliers y estos deberíamos ver de cuantos son. Como son pocos se procederá a eliminarlos."
   ]
  },
  {
   "cell_type": "code",
   "execution_count": 14,
   "metadata": {},
   "outputs": [
    {
     "name": "stdout",
     "output_type": "stream",
     "text": [
      "El número de outliers es 166\n"
     ]
    }
   ],
   "source": [
    "print ('El número de outliers es ' + str(crimes_df.query('Lat <= 20 and Long >-60').shape[0]))\n",
    "\n",
    "crimes_df = crimes_df.query('Lat >= 20 and Long <-60')"
   ]
  },
  {
   "cell_type": "code",
   "execution_count": 15,
   "metadata": {},
   "outputs": [
    {
     "data": {
      "text/plain": [
       "<matplotlib.axes._subplots.AxesSubplot at 0x186ff339288>"
      ]
     },
     "execution_count": 15,
     "metadata": {},
     "output_type": "execute_result"
    },
    {
     "data": {
      "image/png": "[encoded data removed]",
      "text/plain": [
       "<Figure size 432x288 with 1 Axes>"
      ]
     },
     "metadata": {
      "needs_background": "light"
     },
     "output_type": "display_data"
    }
   ],
   "source": [
    "sns.boxplot(y= crimes_df['Lat'])"
   ]
  },
  {
   "cell_type": "code",
   "execution_count": 16,
   "metadata": {},
   "outputs": [
    {
     "data": {
      "text/plain": [
       "<matplotlib.axes._subplots.AxesSubplot at 0x186ff364a08>"
      ]
     },
     "execution_count": 16,
     "metadata": {},
     "output_type": "execute_result"
    },
    {
     "data": {
      "image/png": "[encoded data removed]",
      "text/plain": [
       "<Figure size 432x288 with 1 Axes>"
      ]
     },
     "metadata": {
      "needs_background": "light"
     },
     "output_type": "display_data"
    }
   ],
   "source": [
    "sns.boxplot(y= crimes_df['Long'])"
   ]
  },
  {
   "cell_type": "code",
   "execution_count": 17,
   "metadata": {},
   "outputs": [],
   "source": [
    "district = crimes_df.DISTRICT.unique()\n",
    "\n",
    "colors_dict=dict(zip(district, sns.color_palette(palette=\"muted\",n_colors=12)))"
   ]
  },
  {
   "cell_type": "code",
   "execution_count": 18,
   "metadata": {},
   "outputs": [
    {
     "data": {
      "text/plain": [
       "<matplotlib.axes._subplots.AxesSubplot at 0x186ff396548>"
      ]
     },
     "execution_count": 18,
     "metadata": {},
     "output_type": "execute_result"
    },
    {
     "data": {
      "image/png": "[encoded data removed]",
      "text/plain": [
       "<Figure size 432x288 with 1 Axes>"
      ]
     },
     "metadata": {
      "needs_background": "light"
     },
     "output_type": "display_data"
    }
   ],
   "source": [
    "district = crimes_df.DISTRICT.unique()\n",
    "\n",
    "colors_district=dict(zip(district, sns.color_palette(palette=\"muted\",n_colors=12)))\n",
    "\n",
    "sns.scatterplot(x='Lat', y = 'Long',hue = 'DISTRICT', data=crimes_df, palette=colors_district)"
   ]
  },
  {
   "cell_type": "code",
   "execution_count": 19,
   "metadata": {},
   "outputs": [
    {
     "name": "stdout",
     "output_type": "stream",
     "text": [
      "Part Three    150579\n",
      "Part Two       93319\n",
      "Part One       60331\n",
      "Other           1198\n",
      "Name: UCR_PART, dtype: int64\n",
      "Part Three    150579\n",
      "Part Two       93319\n",
      "Part One       60331\n",
      "Name: UCR_PART, dtype: int64\n"
     ]
    },
    {
     "data": {
      "text/plain": [
       "INCIDENT_NUMBER             0\n",
       "OFFENSE_CODE                0\n",
       "OFFENSE_CODE_GROUP          0\n",
       "OFFENSE_DESCRIPTION         0\n",
       "DISTRICT                    0\n",
       "REPORTING_AREA              0\n",
       "SHOOTING               303217\n",
       "OCCURRED_ON_DATE            0\n",
       "YEAR                        0\n",
       "MONTH                       0\n",
       "DAY_OF_WEEK                 0\n",
       "HOUR                        0\n",
       "UCR_PART                    0\n",
       "STREET                    943\n",
       "Lat                         0\n",
       "Long                        0\n",
       "Location                    0\n",
       "dtype: int64"
      ]
     },
     "execution_count": 19,
     "metadata": {},
     "output_type": "execute_result"
    }
   ],
   "source": [
    "print(crimes_df.UCR_PART.value_counts().head(10))\n",
    "crimes_df.dropna(subset= ['UCR_PART'], inplace=True)\n",
    "crimes_df = crimes_df.query('UCR_PART != \"Other\"')\n",
    "print (crimes_df.UCR_PART.value_counts().head(10))\n",
    "crimes_df.isnull().sum()"
   ]
  },
  {
   "cell_type": "markdown",
   "metadata": {},
   "source": [
    "Contaremos los diferentes elementos que hay según diferentes campos."
   ]
  },
  {
   "cell_type": "code",
   "execution_count": 20,
   "metadata": {},
   "outputs": [
    {
     "name": "stdout",
     "output_type": "stream",
     "text": [
      "3006    18429\n",
      "3115    18394\n",
      "1402    14984\n",
      "3831    14806\n",
      "802     14293\n",
      "3301    13321\n",
      "3410    11072\n",
      "3114    10895\n",
      "617      9116\n",
      "2647     9088\n",
      "Name: OFFENSE_CODE, dtype: int64\n"
     ]
    }
   ],
   "source": [
    "print (crimes_df.OFFENSE_CODE.value_counts().head(10))"
   ]
  },
  {
   "cell_type": "code",
   "execution_count": 21,
   "metadata": {},
   "outputs": [
    {
     "name": "stdout",
     "output_type": "stream",
     "text": [
      "Motor Vehicle Accident Response    31444\n",
      "Larceny                            25819\n",
      "Medical Assistance                 23089\n",
      "Investigate Person                 18394\n",
      "Other                              17512\n",
      "Simple Assault                     15307\n",
      "Vandalism                          15240\n",
      "Drug Violation                     14927\n",
      "Verbal Disputes                    13321\n",
      "Towed                              11072\n",
      "Name: OFFENSE_CODE_GROUP, dtype: int64\n"
     ]
    }
   ],
   "source": [
    "print (crimes_df.OFFENSE_CODE_GROUP.value_counts().head(10))"
   ]
  },
  {
   "cell_type": "code",
   "execution_count": 22,
   "metadata": {},
   "outputs": [
    {
     "name": "stdout",
     "output_type": "stream",
     "text": [
      "2017    93091\n",
      "2016    91429\n",
      "2018    68668\n",
      "2015    51041\n",
      "Name: YEAR, dtype: int64\n"
     ]
    }
   ],
   "source": [
    "print (crimes_df.YEAR.value_counts().head(10))"
   ]
  },
  {
   "cell_type": "code",
   "execution_count": 23,
   "metadata": {},
   "outputs": [
    {
     "name": "stdout",
     "output_type": "stream",
     "text": [
      "B2     47233\n",
      "C11    41915\n",
      "D4     39566\n",
      "B3     34427\n",
      "A1     32853\n",
      "C6     22393\n",
      "D14    19543\n",
      "E18    17026\n",
      "E13    16956\n",
      "E5     13038\n",
      "A7     13008\n",
      "A15     6271\n",
      "Name: DISTRICT, dtype: int64\n"
     ]
    }
   ],
   "source": [
    "print (crimes_df.DISTRICT.value_counts().head(100))"
   ]
  },
  {
   "cell_type": "code",
   "execution_count": 24,
   "metadata": {},
   "outputs": [
    {
     "name": "stdout",
     "output_type": "stream",
     "text": [
      "I162030584    12\n",
      "I152080623    11\n",
      "I172013170    10\n",
      "I182065208    10\n",
      "I172096394    10\n",
      "I172022524     9\n",
      "I162098170     9\n",
      "I162001871     9\n",
      "I162071327     9\n",
      "I172056883     8\n",
      "Name: INCIDENT_NUMBER, dtype: int64\n"
     ]
    }
   ],
   "source": [
    "print (crimes_df.drop_duplicates().INCIDENT_NUMBER.value_counts().head(10))"
   ]
  },
  {
   "cell_type": "markdown",
   "metadata": {},
   "source": [
    "A la hora de programar el modelo el nombre de la incidencia no es relevante para decidir donde se producirá el siguiente crimen. Por tanto es conveniente eliminar este campo del conjunto de datos."
   ]
  },
  {
   "cell_type": "code",
   "execution_count": 25,
   "metadata": {},
   "outputs": [],
   "source": [
    "crimes_df.drop('INCIDENT_NUMBER', 1, inplace= True)"
   ]
  },
  {
   "cell_type": "markdown",
   "metadata": {},
   "source": [
    "Ahora vamos a realizar unas serie de visualizaciones de los datos que tenemos hasta ahora."
   ]
  },
  {
   "cell_type": "code",
   "execution_count": 26,
   "metadata": {},
   "outputs": [
    {
     "data": {
      "text/plain": [
       "Text(0.5, 1.0, 'El número de crímenes por distritos')"
      ]
     },
     "execution_count": 26,
     "metadata": {},
     "output_type": "execute_result"
    },
    {
     "data": {
      "image/png": "[encoded data removed]",
      "text/plain": [
       "<Figure size 432x288 with 1 Axes>"
      ]
     },
     "metadata": {
      "needs_background": "light"
     },
     "output_type": "display_data"
    }
   ],
   "source": [
    "sns.countplot (x= 'DISTRICT',data=crimes_df, palette=colors_district).set_title(\"El número de crímenes por distritos\")"
   ]
  },
  {
   "cell_type": "code",
   "execution_count": 27,
   "metadata": {},
   "outputs": [
    {
     "data": {
      "text/plain": [
       "<matplotlib.legend.Legend at 0x186ff41c488>"
      ]
     },
     "execution_count": 27,
     "metadata": {},
     "output_type": "execute_result"
    },
    {
     "data": {
      "image/png": "[encoded data removed]",
      "text/plain": [
       "<Figure size 432x288 with 1 Axes>"
      ]
     },
     "metadata": {
      "needs_background": "light"
     },
     "output_type": "display_data"
    }
   ],
   "source": [
    "s = sns.countplot(x='MONTH', hue='YEAR', data=crimes_df, ).set_title(\"El número de crímenes por mes y año.\")\n",
    "\n",
    "plt.legend(ncol=1, loc='center right', \n",
    "           bbox_to_anchor=[1, 1], \n",
    "           columnspacing=1.4, labelspacing=0.1,\n",
    "           handletextpad=0.1, handlelength=1,\n",
    "           fancybox=True, shadow=True)"
   ]
  },
  {
   "cell_type": "code",
   "execution_count": 28,
   "metadata": {},
   "outputs": [
    {
     "data": {
      "text/plain": [
       "<matplotlib.axes._subplots.AxesSubplot at 0x186ff474308>"
      ]
     },
     "execution_count": 28,
     "metadata": {},
     "output_type": "execute_result"
    },
    {
     "data": {
      "image/png": "[encoded data removed]",
      "text/plain": [
       "<Figure size 432x288 with 1 Axes>"
      ]
     },
     "metadata": {
      "needs_background": "light"
     },
     "output_type": "display_data"
    }
   ],
   "source": [
    "sns.countplot(x='HOUR', data=crimes_df)"
   ]
  },
  {
   "cell_type": "code",
   "execution_count": 29,
   "metadata": {},
   "outputs": [
    {
     "data": {
      "text/plain": [
       "<matplotlib.axes._subplots.AxesSubplot at 0x186ff4bc148>"
      ]
     },
     "execution_count": 29,
     "metadata": {},
     "output_type": "execute_result"
    },
    {
     "data": {
      "image/png": "[encoded data removed]",
      "text/plain": [
       "<Figure size 432x288 with 1 Axes>"
      ]
     },
     "metadata": {
      "needs_background": "light"
     },
     "output_type": "display_data"
    }
   ],
   "source": [
    "sns.countplot(x='DAY_OF_WEEK', data=crimes_df)"
   ]
  },
  {
   "cell_type": "markdown",
   "metadata": {},
   "source": [
    "Ahora nos centraremos en al variable que forma parte de si se han producido disparos, en este caso haremos una binarización de esta en 0 si no ha habido disparo y 1 en caso contrario."
   ]
  },
  {
   "cell_type": "code",
   "execution_count": 30,
   "metadata": {},
   "outputs": [
    {
     "data": {
      "text/plain": [
       "<matplotlib.axes._subplots.AxesSubplot at 0x186fd7582c8>"
      ]
     },
     "execution_count": 30,
     "metadata": {},
     "output_type": "execute_result"
    },
    {
     "data": {
      "image/png": "[encoded data removed]",
      "text/plain": [
       "<Figure size 432x288 with 1 Axes>"
      ]
     },
     "metadata": {
      "needs_background": "light"
     },
     "output_type": "display_data"
    }
   ],
   "source": [
    "crimes_df['SHOOTING']=crimes_df['SHOOTING'].map({'Y':1})\n",
    "crimes_df['SHOOTING'].fillna(0, inplace=True)\n",
    "sns.countplot(x='YEAR', hue='SHOOTING', data=crimes_df)"
   ]
  },
  {
   "cell_type": "code",
   "execution_count": 31,
   "metadata": {},
   "outputs": [
    {
     "data": {
      "text/plain": [
       "<matplotlib.axes._subplots.AxesSubplot at 0x186ff515248>"
      ]
     },
     "execution_count": 31,
     "metadata": {},
     "output_type": "execute_result"
    },
    {
     "data": {
      "image/png": "[encoded data removed]",
      "text/plain": [
       "<Figure size 432x288 with 1 Axes>"
      ]
     },
     "metadata": {
      "needs_background": "light"
     },
     "output_type": "display_data"
    }
   ],
   "source": [
    "sns.countplot(x='YEAR',  data=crimes_df.loc[crimes_df['SHOOTING'] == 1])"
   ]
  },
  {
   "cell_type": "code",
   "execution_count": 32,
   "metadata": {},
   "outputs": [
    {
     "data": {
      "text/plain": [
       "<matplotlib.legend.Legend at 0x186ff53de08>"
      ]
     },
     "execution_count": 32,
     "metadata": {},
     "output_type": "execute_result"
    },
    {
     "data": {
      "image/png": "[encoded data removed]",
      "text/plain": [
       "<Figure size 432x288 with 1 Axes>"
      ]
     },
     "metadata": {
      "needs_background": "light"
     },
     "output_type": "display_data"
    }
   ],
   "source": [
    "s = sns.countplot(x='MONTH', hue='YEAR', data=crimes_df.loc[crimes_df['SHOOTING'] == 1])\n",
    "plt.legend(ncol=1, loc='center right', \n",
    "           bbox_to_anchor=[0.9, 1], \n",
    "           columnspacing=1.4, labelspacing=0.1,\n",
    "           handletextpad=0.1, handlelength=1,\n",
    "           fancybox=True, shadow=True)"
   ]
  },
  {
   "cell_type": "code",
   "execution_count": 33,
   "metadata": {},
   "outputs": [
    {
     "data": {
      "text/plain": [
       "<matplotlib.axes._subplots.AxesSubplot at 0x186fd5de788>"
      ]
     },
     "execution_count": 33,
     "metadata": {},
     "output_type": "execute_result"
    },
    {
     "data": {
      "image/png": "[encoded data removed]",
      "text/plain": [
       "<Figure size 432x288 with 1 Axes>"
      ]
     },
     "metadata": {
      "needs_background": "light"
     },
     "output_type": "display_data"
    }
   ],
   "source": [
    "sns.countplot(x='MONTH',  data=crimes_df.loc[crimes_df['SHOOTING'] == 0])"
   ]
  },
  {
   "cell_type": "code",
   "execution_count": 34,
   "metadata": {},
   "outputs": [
    {
     "data": {
      "text/plain": [
       "Text(0.5, 1.0, 'Crímenes con disparos por distritos')"
      ]
     },
     "execution_count": 34,
     "metadata": {},
     "output_type": "execute_result"
    },
    {
     "data": {
      "image/png": "[encoded data removed]",
      "text/plain": [
       "<Figure size 432x288 with 1 Axes>"
      ]
     },
     "metadata": {
      "needs_background": "light"
     },
     "output_type": "display_data"
    }
   ],
   "source": [
    "sns.countplot(x='DISTRICT', data=crimes_df.loc[crimes_df['SHOOTING'] == 1], palette=colors_district).set_title('Crímenes con disparos por distritos')"
   ]
  },
  {
   "cell_type": "code",
   "execution_count": 35,
   "metadata": {},
   "outputs": [
    {
     "data": {
      "text/plain": [
       "<matplotlib.axes._subplots.AxesSubplot at 0x186ff5fe8c8>"
      ]
     },
     "execution_count": 35,
     "metadata": {},
     "output_type": "execute_result"
    },
    {
     "data": {
      "image/png": "[encoded data removed]",
      "text/plain": [
       "<Figure size 432x288 with 1 Axes>"
      ]
     },
     "metadata": {
      "needs_background": "light"
     },
     "output_type": "display_data"
    }
   ],
   "source": [
    "sns.countplot(x='DISTRICT', hue='SHOOTING', data=crimes_df)"
   ]
  },
  {
   "cell_type": "code",
   "execution_count": 36,
   "metadata": {},
   "outputs": [
    {
     "data": {
      "text/plain": [
       "<matplotlib.axes._subplots.AxesSubplot at 0x186ff5f81c8>"
      ]
     },
     "execution_count": 36,
     "metadata": {},
     "output_type": "execute_result"
    },
    {
     "data": {
      "image/png": "[encoded data removed]",
      "text/plain": [
       "<Figure size 432x288 with 1 Axes>"
      ]
     },
     "metadata": {
      "needs_background": "light"
     },
     "output_type": "display_data"
    }
   ],
   "source": [
    "sns.countplot(x='DISTRICT', data=crimes_df.loc[crimes_df['SHOOTING'] == 0], palette=colors_district)"
   ]
  },
  {
   "cell_type": "code",
   "execution_count": 37,
   "metadata": {},
   "outputs": [
    {
     "data": {
      "text/plain": [
       "<matplotlib.axes._subplots.AxesSubplot at 0x186ff66bf08>"
      ]
     },
     "execution_count": 37,
     "metadata": {},
     "output_type": "execute_result"
    },
    {
     "data": {
      "image/png": "[encoded data removed]",
      "text/plain": [
       "<Figure size 432x288 with 1 Axes>"
      ]
     },
     "metadata": {
      "needs_background": "light"
     },
     "output_type": "display_data"
    }
   ],
   "source": [
    "sns.countplot(x='DAY_OF_WEEK', data=crimes_df.loc[crimes_df['SHOOTING'] == 1])"
   ]
  },
  {
   "cell_type": "markdown",
   "metadata": {},
   "source": [
    "Vamos a crear una nueva variable binaria que nos indique según el mes y la hora del día es de día o de noche."
   ]
  },
  {
   "cell_type": "code",
   "execution_count": 38,
   "metadata": {},
   "outputs": [],
   "source": [
    "crimes_df['IS_NIGHT'] = np.vectorize(time_function.is_night)(crimes_df['MONTH'], crimes_df['HOUR'])"
   ]
  },
  {
   "cell_type": "code",
   "execution_count": 39,
   "metadata": {},
   "outputs": [
    {
     "data": {
      "text/html": [
       "<div>\n",
       "<style scoped>\n",
       "    .dataframe tbody tr th:only-of-type {\n",
       "        vertical-align: middle;\n",
       "    }\n",
       "\n",
       "    .dataframe tbody tr th {\n",
       "        vertical-align: top;\n",
       "    }\n",
       "\n",
       "    .dataframe thead th {\n",
       "        text-align: right;\n",
       "    }\n",
       "</style>\n",
       "<table border=\"1\" class=\"dataframe\">\n",
       "  <thead>\n",
       "    <tr style=\"text-align: right;\">\n",
       "      <th></th>\n",
       "      <th>OFFENSE_CODE</th>\n",
       "      <th>OFFENSE_CODE_GROUP</th>\n",
       "      <th>OFFENSE_DESCRIPTION</th>\n",
       "      <th>DISTRICT</th>\n",
       "      <th>REPORTING_AREA</th>\n",
       "      <th>SHOOTING</th>\n",
       "      <th>OCCURRED_ON_DATE</th>\n",
       "      <th>YEAR</th>\n",
       "      <th>MONTH</th>\n",
       "      <th>DAY_OF_WEEK</th>\n",
       "      <th>HOUR</th>\n",
       "      <th>UCR_PART</th>\n",
       "      <th>STREET</th>\n",
       "      <th>Lat</th>\n",
       "      <th>Long</th>\n",
       "      <th>Location</th>\n",
       "      <th>IS_NIGHT</th>\n",
       "    </tr>\n",
       "  </thead>\n",
       "  <tbody>\n",
       "    <tr>\n",
       "      <th>327815</th>\n",
       "      <td>3125</td>\n",
       "      <td>Warrant Arrests</td>\n",
       "      <td>WARRANT ARREST</td>\n",
       "      <td>D4</td>\n",
       "      <td>285</td>\n",
       "      <td>0.0</td>\n",
       "      <td>2016-06-05 17:25:00</td>\n",
       "      <td>2016</td>\n",
       "      <td>6</td>\n",
       "      <td>Sunday</td>\n",
       "      <td>17</td>\n",
       "      <td>Part Three</td>\n",
       "      <td>COVENTRY ST</td>\n",
       "      <td>42.336951</td>\n",
       "      <td>-71.085748</td>\n",
       "      <td>(42.33695098, -71.08574813)</td>\n",
       "      <td>0</td>\n",
       "    </tr>\n",
       "    <tr>\n",
       "      <th>327816</th>\n",
       "      <td>111</td>\n",
       "      <td>Homicide</td>\n",
       "      <td>MURDER, NON-NEGLIGIENT MANSLAUGHTER</td>\n",
       "      <td>E18</td>\n",
       "      <td>520</td>\n",
       "      <td>0.0</td>\n",
       "      <td>2015-07-09 13:38:00</td>\n",
       "      <td>2015</td>\n",
       "      <td>7</td>\n",
       "      <td>Thursday</td>\n",
       "      <td>13</td>\n",
       "      <td>Part One</td>\n",
       "      <td>RIVER ST</td>\n",
       "      <td>42.255926</td>\n",
       "      <td>-71.123172</td>\n",
       "      <td>(42.25592648, -71.12317207)</td>\n",
       "      <td>0</td>\n",
       "    </tr>\n",
       "    <tr>\n",
       "      <th>327817</th>\n",
       "      <td>3125</td>\n",
       "      <td>Warrant Arrests</td>\n",
       "      <td>WARRANT ARREST</td>\n",
       "      <td>E18</td>\n",
       "      <td>520</td>\n",
       "      <td>0.0</td>\n",
       "      <td>2015-07-09 13:38:00</td>\n",
       "      <td>2015</td>\n",
       "      <td>7</td>\n",
       "      <td>Thursday</td>\n",
       "      <td>13</td>\n",
       "      <td>Part Three</td>\n",
       "      <td>RIVER ST</td>\n",
       "      <td>42.255926</td>\n",
       "      <td>-71.123172</td>\n",
       "      <td>(42.25592648, -71.12317207)</td>\n",
       "      <td>0</td>\n",
       "    </tr>\n",
       "    <tr>\n",
       "      <th>327818</th>\n",
       "      <td>3125</td>\n",
       "      <td>Warrant Arrests</td>\n",
       "      <td>WARRANT ARREST</td>\n",
       "      <td>E13</td>\n",
       "      <td>569</td>\n",
       "      <td>0.0</td>\n",
       "      <td>2016-05-31 19:35:00</td>\n",
       "      <td>2016</td>\n",
       "      <td>5</td>\n",
       "      <td>Tuesday</td>\n",
       "      <td>19</td>\n",
       "      <td>Part Three</td>\n",
       "      <td>NEW WASHINGTON ST</td>\n",
       "      <td>42.302333</td>\n",
       "      <td>-71.111565</td>\n",
       "      <td>(42.30233307, -71.11156487)</td>\n",
       "      <td>0</td>\n",
       "    </tr>\n",
       "    <tr>\n",
       "      <th>327819</th>\n",
       "      <td>3125</td>\n",
       "      <td>Warrant Arrests</td>\n",
       "      <td>WARRANT ARREST</td>\n",
       "      <td>D4</td>\n",
       "      <td>903</td>\n",
       "      <td>0.0</td>\n",
       "      <td>2015-06-22 00:12:00</td>\n",
       "      <td>2015</td>\n",
       "      <td>6</td>\n",
       "      <td>Monday</td>\n",
       "      <td>0</td>\n",
       "      <td>Part Three</td>\n",
       "      <td>WASHINGTON ST</td>\n",
       "      <td>42.333839</td>\n",
       "      <td>-71.080290</td>\n",
       "      <td>(42.33383935, -71.08029038)</td>\n",
       "      <td>1</td>\n",
       "    </tr>\n",
       "  </tbody>\n",
       "</table>\n",
       "</div>"
      ],
      "text/plain": [
       "        OFFENSE_CODE OFFENSE_CODE_GROUP                  OFFENSE_DESCRIPTION  \\\n",
       "327815          3125    Warrant Arrests                       WARRANT ARREST   \n",
       "327816           111           Homicide  MURDER, NON-NEGLIGIENT MANSLAUGHTER   \n",
       "327817          3125    Warrant Arrests                       WARRANT ARREST   \n",
       "327818          3125    Warrant Arrests                       WARRANT ARREST   \n",
       "327819          3125    Warrant Arrests                       WARRANT ARREST   \n",
       "\n",
       "       DISTRICT REPORTING_AREA  SHOOTING     OCCURRED_ON_DATE  YEAR  MONTH  \\\n",
       "327815       D4            285       0.0  2016-06-05 17:25:00  2016      6   \n",
       "327816      E18            520       0.0  2015-07-09 13:38:00  2015      7   \n",
       "327817      E18            520       0.0  2015-07-09 13:38:00  2015      7   \n",
       "327818      E13            569       0.0  2016-05-31 19:35:00  2016      5   \n",
       "327819       D4            903       0.0  2015-06-22 00:12:00  2015      6   \n",
       "\n",
       "       DAY_OF_WEEK  HOUR    UCR_PART             STREET        Lat       Long  \\\n",
       "327815      Sunday    17  Part Three        COVENTRY ST  42.336951 -71.085748   \n",
       "327816    Thursday    13    Part One           RIVER ST  42.255926 -71.123172   \n",
       "327817    Thursday    13  Part Three           RIVER ST  42.255926 -71.123172   \n",
       "327818     Tuesday    19  Part Three  NEW WASHINGTON ST  42.302333 -71.111565   \n",
       "327819      Monday     0  Part Three      WASHINGTON ST  42.333839 -71.080290   \n",
       "\n",
       "                           Location  IS_NIGHT  \n",
       "327815  (42.33695098, -71.08574813)         0  \n",
       "327816  (42.25592648, -71.12317207)         0  \n",
       "327817  (42.25592648, -71.12317207)         0  \n",
       "327818  (42.30233307, -71.11156487)         0  \n",
       "327819  (42.33383935, -71.08029038)         1  "
      ]
     },
     "execution_count": 39,
     "metadata": {},
     "output_type": "execute_result"
    }
   ],
   "source": [
    "crimes_df.tail(5)"
   ]
  },
  {
   "cell_type": "code",
   "execution_count": 40,
   "metadata": {},
   "outputs": [
    {
     "data": {
      "text/plain": [
       "<matplotlib.axes._subplots.AxesSubplot at 0x186ff699a48>"
      ]
     },
     "execution_count": 40,
     "metadata": {},
     "output_type": "execute_result"
    },
    {
     "data": {
      "image/png": "[encoded data removed]",
      "text/plain": [
       "<Figure size 432x288 with 1 Axes>"
      ]
     },
     "metadata": {
      "needs_background": "light"
     },
     "output_type": "display_data"
    }
   ],
   "source": [
    "sns.countplot(x='IS_NIGHT', hue='SHOOTING', data=crimes_df.loc[crimes_df['SHOOTING'] == 1])"
   ]
  },
  {
   "cell_type": "code",
   "execution_count": 41,
   "metadata": {},
   "outputs": [
    {
     "data": {
      "text/plain": [
       "<matplotlib.axes._subplots.AxesSubplot at 0x186ff6bb808>"
      ]
     },
     "execution_count": 41,
     "metadata": {},
     "output_type": "execute_result"
    },
    {
     "data": {
      "image/png": "[encoded data removed]",
      "text/plain": [
       "<Figure size 432x288 with 1 Axes>"
      ]
     },
     "metadata": {
      "needs_background": "light"
     },
     "output_type": "display_data"
    }
   ],
   "source": [
    "sns.countplot(x='IS_NIGHT', hue='SHOOTING', data=crimes_df.loc[crimes_df['SHOOTING'] == 0])"
   ]
  },
  {
   "cell_type": "code",
   "execution_count": 42,
   "metadata": {},
   "outputs": [
    {
     "data": {
      "text/plain": [
       "<matplotlib.axes._subplots.AxesSubplot at 0x186ff6985c8>"
      ]
     },
     "execution_count": 42,
     "metadata": {},
     "output_type": "execute_result"
    },
    {
     "data": {
      "image/png": "[encoded data removed]",
      "text/plain": [
       "<Figure size 432x288 with 1 Axes>"
      ]
     },
     "metadata": {
      "needs_background": "light"
     },
     "output_type": "display_data"
    }
   ],
   "source": [
    "sns.countplot(x='MONTH', hue='IS_NIGHT', data=crimes_df.loc[crimes_df['SHOOTING'] == 0])"
   ]
  },
  {
   "cell_type": "markdown",
   "metadata": {},
   "source": [
    "Vamos a hacer drop de la columnas que no vamos a usar en el entrenamiento del modelo de datos: OFFENSE_DESCRIPTION, REPORTING_AREA, OCCURRED_ON_DATE, STREET, Lat, Long y Location. Pero antes vamos a sacar del OCCURRED_ON_DATE el día del mes."
   ]
  },
  {
   "cell_type": "code",
   "execution_count": 43,
   "metadata": {},
   "outputs": [],
   "source": [
    "crimes_df['DAY_OF_MONTH'] = crimes_df.OCCURRED_ON_DATE.apply(lambda x: int(''.join(x[8:10])))"
   ]
  },
  {
   "cell_type": "code",
   "execution_count": 44,
   "metadata": {},
   "outputs": [],
   "source": [
    "crimes_df.drop('OFFENSE_DESCRIPTION', 1, inplace= True)\n",
    "crimes_df.drop('OCCURRED_ON_DATE', 1, inplace= True)\n",
    "#crimes_df.drop('STREET', 1, inplace= True)\n",
    "crimes_df.drop('REPORTING_AREA', 1, inplace= True)\n",
    "#crimes_df.drop('Lat', 1, inplace= True)\n",
    "#crimes_df.drop('Long', 1, inplace= True)\n",
    "crimes_df.drop('Location', 1, inplace= True)\n",
    "crimes_df.drop('OFFENSE_CODE', 1, inplace= True)"
   ]
  },
  {
   "cell_type": "code",
   "execution_count": 45,
   "metadata": {},
   "outputs": [
    {
     "data": {
      "text/html": [
       "<div>\n",
       "<style scoped>\n",
       "    .dataframe tbody tr th:only-of-type {\n",
       "        vertical-align: middle;\n",
       "    }\n",
       "\n",
       "    .dataframe tbody tr th {\n",
       "        vertical-align: top;\n",
       "    }\n",
       "\n",
       "    .dataframe thead th {\n",
       "        text-align: right;\n",
       "    }\n",
       "</style>\n",
       "<table border=\"1\" class=\"dataframe\">\n",
       "  <thead>\n",
       "    <tr style=\"text-align: right;\">\n",
       "      <th></th>\n",
       "      <th>OFFENSE_CODE_GROUP</th>\n",
       "      <th>DISTRICT</th>\n",
       "      <th>SHOOTING</th>\n",
       "      <th>YEAR</th>\n",
       "      <th>MONTH</th>\n",
       "      <th>DAY_OF_WEEK</th>\n",
       "      <th>HOUR</th>\n",
       "      <th>UCR_PART</th>\n",
       "      <th>STREET</th>\n",
       "      <th>Lat</th>\n",
       "      <th>Long</th>\n",
       "      <th>IS_NIGHT</th>\n",
       "      <th>DAY_OF_MONTH</th>\n",
       "    </tr>\n",
       "  </thead>\n",
       "  <tbody>\n",
       "    <tr>\n",
       "      <th>0</th>\n",
       "      <td>Disorderly Conduct</td>\n",
       "      <td>E18</td>\n",
       "      <td>0.0</td>\n",
       "      <td>2018</td>\n",
       "      <td>10</td>\n",
       "      <td>Wednesday</td>\n",
       "      <td>20</td>\n",
       "      <td>Part Two</td>\n",
       "      <td>ARLINGTON ST</td>\n",
       "      <td>42.262608</td>\n",
       "      <td>-71.121186</td>\n",
       "      <td>1</td>\n",
       "      <td>3</td>\n",
       "    </tr>\n",
       "    <tr>\n",
       "      <th>1</th>\n",
       "      <td>Property Lost</td>\n",
       "      <td>D14</td>\n",
       "      <td>0.0</td>\n",
       "      <td>2018</td>\n",
       "      <td>8</td>\n",
       "      <td>Thursday</td>\n",
       "      <td>20</td>\n",
       "      <td>Part Three</td>\n",
       "      <td>ALLSTON ST</td>\n",
       "      <td>42.352111</td>\n",
       "      <td>-71.135311</td>\n",
       "      <td>1</td>\n",
       "      <td>30</td>\n",
       "    </tr>\n",
       "    <tr>\n",
       "      <th>2</th>\n",
       "      <td>Other</td>\n",
       "      <td>B2</td>\n",
       "      <td>0.0</td>\n",
       "      <td>2018</td>\n",
       "      <td>10</td>\n",
       "      <td>Wednesday</td>\n",
       "      <td>19</td>\n",
       "      <td>Part Two</td>\n",
       "      <td>DEVON ST</td>\n",
       "      <td>42.308126</td>\n",
       "      <td>-71.076930</td>\n",
       "      <td>1</td>\n",
       "      <td>3</td>\n",
       "    </tr>\n",
       "    <tr>\n",
       "      <th>3</th>\n",
       "      <td>Aggravated Assault</td>\n",
       "      <td>A1</td>\n",
       "      <td>0.0</td>\n",
       "      <td>2018</td>\n",
       "      <td>10</td>\n",
       "      <td>Wednesday</td>\n",
       "      <td>20</td>\n",
       "      <td>Part One</td>\n",
       "      <td>CAMBRIDGE ST</td>\n",
       "      <td>42.359454</td>\n",
       "      <td>-71.059648</td>\n",
       "      <td>1</td>\n",
       "      <td>3</td>\n",
       "    </tr>\n",
       "    <tr>\n",
       "      <th>4</th>\n",
       "      <td>Aircraft</td>\n",
       "      <td>A7</td>\n",
       "      <td>0.0</td>\n",
       "      <td>2018</td>\n",
       "      <td>10</td>\n",
       "      <td>Wednesday</td>\n",
       "      <td>20</td>\n",
       "      <td>Part Three</td>\n",
       "      <td>PRESCOTT ST</td>\n",
       "      <td>42.375258</td>\n",
       "      <td>-71.024663</td>\n",
       "      <td>1</td>\n",
       "      <td>3</td>\n",
       "    </tr>\n",
       "  </tbody>\n",
       "</table>\n",
       "</div>"
      ],
      "text/plain": [
       "   OFFENSE_CODE_GROUP DISTRICT  SHOOTING  YEAR  MONTH DAY_OF_WEEK  HOUR  \\\n",
       "0  Disorderly Conduct      E18       0.0  2018     10   Wednesday    20   \n",
       "1       Property Lost      D14       0.0  2018      8    Thursday    20   \n",
       "2               Other       B2       0.0  2018     10   Wednesday    19   \n",
       "3  Aggravated Assault       A1       0.0  2018     10   Wednesday    20   \n",
       "4            Aircraft       A7       0.0  2018     10   Wednesday    20   \n",
       "\n",
       "     UCR_PART        STREET        Lat       Long  IS_NIGHT  DAY_OF_MONTH  \n",
       "0    Part Two  ARLINGTON ST  42.262608 -71.121186         1             3  \n",
       "1  Part Three    ALLSTON ST  42.352111 -71.135311         1            30  \n",
       "2    Part Two      DEVON ST  42.308126 -71.076930         1             3  \n",
       "3    Part One  CAMBRIDGE ST  42.359454 -71.059648         1             3  \n",
       "4  Part Three   PRESCOTT ST  42.375258 -71.024663         1             3  "
      ]
     },
     "execution_count": 45,
     "metadata": {},
     "output_type": "execute_result"
    }
   ],
   "source": [
    "crimes_df.head(5)"
   ]
  },
  {
   "cell_type": "code",
   "execution_count": 46,
   "metadata": {},
   "outputs": [],
   "source": [
    "crimes_df.to_csv('crimes_clean.csv', header = True, index=False)"
   ]
  },
  {
   "cell_type": "markdown",
   "metadata": {},
   "source": [
    "Ahora vamos a generar un segundo conjunto de datos haciendo que el tiempo definido por mes, día y hora reducirlo a dos componentes generando así un ciclo, usando el año para poder determinar si es bisiesto o no."
   ]
  },
  {
   "cell_type": "code",
   "execution_count": 47,
   "metadata": {},
   "outputs": [],
   "source": [
    "crimes_df['TIME_X'] = np.vectorize(time_function.time_x)(crimes_df['YEAR'],crimes_df['MONTH'],crimes_df['DAY_OF_MONTH'] ,crimes_df['HOUR'])\n",
    "crimes_df['TIME_Y'] = np.vectorize(time_function.time_y)(crimes_df['YEAR'],crimes_df['MONTH'],crimes_df['DAY_OF_MONTH'] ,crimes_df['HOUR'])"
   ]
  },
  {
   "cell_type": "code",
   "execution_count": 48,
   "metadata": {},
   "outputs": [
    {
     "data": {
      "text/html": [
       "<div>\n",
       "<style scoped>\n",
       "    .dataframe tbody tr th:only-of-type {\n",
       "        vertical-align: middle;\n",
       "    }\n",
       "\n",
       "    .dataframe tbody tr th {\n",
       "        vertical-align: top;\n",
       "    }\n",
       "\n",
       "    .dataframe thead th {\n",
       "        text-align: right;\n",
       "    }\n",
       "</style>\n",
       "<table border=\"1\" class=\"dataframe\">\n",
       "  <thead>\n",
       "    <tr style=\"text-align: right;\">\n",
       "      <th></th>\n",
       "      <th>OFFENSE_CODE_GROUP</th>\n",
       "      <th>DISTRICT</th>\n",
       "      <th>SHOOTING</th>\n",
       "      <th>YEAR</th>\n",
       "      <th>MONTH</th>\n",
       "      <th>DAY_OF_WEEK</th>\n",
       "      <th>HOUR</th>\n",
       "      <th>UCR_PART</th>\n",
       "      <th>STREET</th>\n",
       "      <th>Lat</th>\n",
       "      <th>Long</th>\n",
       "      <th>IS_NIGHT</th>\n",
       "      <th>DAY_OF_MONTH</th>\n",
       "      <th>TIME_X</th>\n",
       "      <th>TIME_Y</th>\n",
       "    </tr>\n",
       "  </thead>\n",
       "  <tbody>\n",
       "    <tr>\n",
       "      <th>0</th>\n",
       "      <td>Disorderly Conduct</td>\n",
       "      <td>E18</td>\n",
       "      <td>0.0</td>\n",
       "      <td>2018</td>\n",
       "      <td>10</td>\n",
       "      <td>Wednesday</td>\n",
       "      <td>20</td>\n",
       "      <td>Part Two</td>\n",
       "      <td>ARLINGTON ST</td>\n",
       "      <td>42.262608</td>\n",
       "      <td>-71.121186</td>\n",
       "      <td>1</td>\n",
       "      <td>3</td>\n",
       "      <td>0.518198</td>\n",
       "      <td>0.000331</td>\n",
       "    </tr>\n",
       "    <tr>\n",
       "      <th>1</th>\n",
       "      <td>Property Lost</td>\n",
       "      <td>D14</td>\n",
       "      <td>0.0</td>\n",
       "      <td>2018</td>\n",
       "      <td>8</td>\n",
       "      <td>Thursday</td>\n",
       "      <td>20</td>\n",
       "      <td>Part Three</td>\n",
       "      <td>ALLSTON ST</td>\n",
       "      <td>42.352111</td>\n",
       "      <td>-71.135311</td>\n",
       "      <td>1</td>\n",
       "      <td>30</td>\n",
       "      <td>0.239106</td>\n",
       "      <td>0.073462</td>\n",
       "    </tr>\n",
       "    <tr>\n",
       "      <th>2</th>\n",
       "      <td>Other</td>\n",
       "      <td>B2</td>\n",
       "      <td>0.0</td>\n",
       "      <td>2018</td>\n",
       "      <td>10</td>\n",
       "      <td>Wednesday</td>\n",
       "      <td>19</td>\n",
       "      <td>Part Two</td>\n",
       "      <td>DEVON ST</td>\n",
       "      <td>42.308126</td>\n",
       "      <td>-71.076930</td>\n",
       "      <td>1</td>\n",
       "      <td>3</td>\n",
       "      <td>0.517840</td>\n",
       "      <td>0.000318</td>\n",
       "    </tr>\n",
       "    <tr>\n",
       "      <th>3</th>\n",
       "      <td>Aggravated Assault</td>\n",
       "      <td>A1</td>\n",
       "      <td>0.0</td>\n",
       "      <td>2018</td>\n",
       "      <td>10</td>\n",
       "      <td>Wednesday</td>\n",
       "      <td>20</td>\n",
       "      <td>Part One</td>\n",
       "      <td>CAMBRIDGE ST</td>\n",
       "      <td>42.359454</td>\n",
       "      <td>-71.059648</td>\n",
       "      <td>1</td>\n",
       "      <td>3</td>\n",
       "      <td>0.518198</td>\n",
       "      <td>0.000331</td>\n",
       "    </tr>\n",
       "    <tr>\n",
       "      <th>4</th>\n",
       "      <td>Aircraft</td>\n",
       "      <td>A7</td>\n",
       "      <td>0.0</td>\n",
       "      <td>2018</td>\n",
       "      <td>10</td>\n",
       "      <td>Wednesday</td>\n",
       "      <td>20</td>\n",
       "      <td>Part Three</td>\n",
       "      <td>PRESCOTT ST</td>\n",
       "      <td>42.375258</td>\n",
       "      <td>-71.024663</td>\n",
       "      <td>1</td>\n",
       "      <td>3</td>\n",
       "      <td>0.518198</td>\n",
       "      <td>0.000331</td>\n",
       "    </tr>\n",
       "  </tbody>\n",
       "</table>\n",
       "</div>"
      ],
      "text/plain": [
       "   OFFENSE_CODE_GROUP DISTRICT  SHOOTING  YEAR  MONTH DAY_OF_WEEK  HOUR  \\\n",
       "0  Disorderly Conduct      E18       0.0  2018     10   Wednesday    20   \n",
       "1       Property Lost      D14       0.0  2018      8    Thursday    20   \n",
       "2               Other       B2       0.0  2018     10   Wednesday    19   \n",
       "3  Aggravated Assault       A1       0.0  2018     10   Wednesday    20   \n",
       "4            Aircraft       A7       0.0  2018     10   Wednesday    20   \n",
       "\n",
       "     UCR_PART        STREET        Lat       Long  IS_NIGHT  DAY_OF_MONTH  \\\n",
       "0    Part Two  ARLINGTON ST  42.262608 -71.121186         1             3   \n",
       "1  Part Three    ALLSTON ST  42.352111 -71.135311         1            30   \n",
       "2    Part Two      DEVON ST  42.308126 -71.076930         1             3   \n",
       "3    Part One  CAMBRIDGE ST  42.359454 -71.059648         1             3   \n",
       "4  Part Three   PRESCOTT ST  42.375258 -71.024663         1             3   \n",
       "\n",
       "     TIME_X    TIME_Y  \n",
       "0  0.518198  0.000331  \n",
       "1  0.239106  0.073462  \n",
       "2  0.517840  0.000318  \n",
       "3  0.518198  0.000331  \n",
       "4  0.518198  0.000331  "
      ]
     },
     "execution_count": 48,
     "metadata": {},
     "output_type": "execute_result"
    }
   ],
   "source": [
    "crimes_df.head(5)"
   ]
  },
  {
   "cell_type": "code",
   "execution_count": 49,
   "metadata": {},
   "outputs": [
    {
     "data": {
      "text/plain": [
       "<matplotlib.axes._subplots.AxesSubplot at 0x186ff729fc8>"
      ]
     },
     "execution_count": 49,
     "metadata": {},
     "output_type": "execute_result"
    },
    {
     "data": {
      "image/png": "[encoded data removed]",
      "text/plain": [
       "<Figure size 432x288 with 1 Axes>"
      ]
     },
     "metadata": {
      "needs_background": "light"
     },
     "output_type": "display_data"
    }
   ],
   "source": [
    "sns.scatterplot(x='TIME_X', y='TIME_Y', data=crimes_df)"
   ]
  },
  {
   "cell_type": "markdown",
   "metadata": {},
   "source": [
    "Por último, vamos a estadarizar la latitud y la longitud."
   ]
  },
  {
   "cell_type": "code",
   "execution_count": 50,
   "metadata": {},
   "outputs": [],
   "source": [
    "crimes_df['Lat_M']=(crimes_df['Lat']-crimes_df['Lat'].min())/(crimes_df['Lat'].max()-crimes_df['Lat'].min())\n",
    "crimes_df['Long_M']=(crimes_df['Long']-crimes_df['Long'].min())/(crimes_df['Long'].max()-crimes_df['Long'].min())"
   ]
  },
  {
   "cell_type": "code",
   "execution_count": 51,
   "metadata": {},
   "outputs": [
    {
     "data": {
      "text/html": [
       "<div>\n",
       "<style scoped>\n",
       "    .dataframe tbody tr th:only-of-type {\n",
       "        vertical-align: middle;\n",
       "    }\n",
       "\n",
       "    .dataframe tbody tr th {\n",
       "        vertical-align: top;\n",
       "    }\n",
       "\n",
       "    .dataframe thead th {\n",
       "        text-align: right;\n",
       "    }\n",
       "</style>\n",
       "<table border=\"1\" class=\"dataframe\">\n",
       "  <thead>\n",
       "    <tr style=\"text-align: right;\">\n",
       "      <th></th>\n",
       "      <th>OFFENSE_CODE_GROUP</th>\n",
       "      <th>DISTRICT</th>\n",
       "      <th>SHOOTING</th>\n",
       "      <th>YEAR</th>\n",
       "      <th>MONTH</th>\n",
       "      <th>DAY_OF_WEEK</th>\n",
       "      <th>HOUR</th>\n",
       "      <th>UCR_PART</th>\n",
       "      <th>STREET</th>\n",
       "      <th>Lat</th>\n",
       "      <th>Long</th>\n",
       "      <th>IS_NIGHT</th>\n",
       "      <th>DAY_OF_MONTH</th>\n",
       "      <th>TIME_X</th>\n",
       "      <th>TIME_Y</th>\n",
       "      <th>Lat_M</th>\n",
       "      <th>Long_M</th>\n",
       "    </tr>\n",
       "  </thead>\n",
       "  <tbody>\n",
       "    <tr>\n",
       "      <th>count</th>\n",
       "      <td>304229</td>\n",
       "      <td>304229</td>\n",
       "      <td>304229.000000</td>\n",
       "      <td>304229.000000</td>\n",
       "      <td>304229.000000</td>\n",
       "      <td>304229</td>\n",
       "      <td>304229.000000</td>\n",
       "      <td>304229</td>\n",
       "      <td>303286</td>\n",
       "      <td>304229.000000</td>\n",
       "      <td>304229.000000</td>\n",
       "      <td>304229.000000</td>\n",
       "      <td>304229.000000</td>\n",
       "      <td>3.042290e+05</td>\n",
       "      <td>3.042290e+05</td>\n",
       "      <td>304229.000000</td>\n",
       "      <td>304229.000000</td>\n",
       "    </tr>\n",
       "    <tr>\n",
       "      <th>unique</th>\n",
       "      <td>59</td>\n",
       "      <td>12</td>\n",
       "      <td>NaN</td>\n",
       "      <td>NaN</td>\n",
       "      <td>NaN</td>\n",
       "      <td>7</td>\n",
       "      <td>NaN</td>\n",
       "      <td>3</td>\n",
       "      <td>3837</td>\n",
       "      <td>NaN</td>\n",
       "      <td>NaN</td>\n",
       "      <td>NaN</td>\n",
       "      <td>NaN</td>\n",
       "      <td>NaN</td>\n",
       "      <td>NaN</td>\n",
       "      <td>NaN</td>\n",
       "      <td>NaN</td>\n",
       "    </tr>\n",
       "    <tr>\n",
       "      <th>top</th>\n",
       "      <td>Motor Vehicle Accident Response</td>\n",
       "      <td>B2</td>\n",
       "      <td>NaN</td>\n",
       "      <td>NaN</td>\n",
       "      <td>NaN</td>\n",
       "      <td>Friday</td>\n",
       "      <td>NaN</td>\n",
       "      <td>Part Three</td>\n",
       "      <td>WASHINGTON ST</td>\n",
       "      <td>NaN</td>\n",
       "      <td>NaN</td>\n",
       "      <td>NaN</td>\n",
       "      <td>NaN</td>\n",
       "      <td>NaN</td>\n",
       "      <td>NaN</td>\n",
       "      <td>NaN</td>\n",
       "      <td>NaN</td>\n",
       "    </tr>\n",
       "    <tr>\n",
       "      <th>freq</th>\n",
       "      <td>31444</td>\n",
       "      <td>47233</td>\n",
       "      <td>NaN</td>\n",
       "      <td>NaN</td>\n",
       "      <td>NaN</td>\n",
       "      <td>46161</td>\n",
       "      <td>NaN</td>\n",
       "      <td>150579</td>\n",
       "      <td>14202</td>\n",
       "      <td>NaN</td>\n",
       "      <td>NaN</td>\n",
       "      <td>NaN</td>\n",
       "      <td>NaN</td>\n",
       "      <td>NaN</td>\n",
       "      <td>NaN</td>\n",
       "      <td>NaN</td>\n",
       "      <td>NaN</td>\n",
       "    </tr>\n",
       "    <tr>\n",
       "      <th>mean</th>\n",
       "      <td>NaN</td>\n",
       "      <td>NaN</td>\n",
       "      <td>0.003326</td>\n",
       "      <td>2016.589641</td>\n",
       "      <td>6.673325</td>\n",
       "      <td>NaN</td>\n",
       "      <td>13.126125</td>\n",
       "      <td>NaN</td>\n",
       "      <td>NaN</td>\n",
       "      <td>42.322303</td>\n",
       "      <td>-71.082846</td>\n",
       "      <td>0.355311</td>\n",
       "      <td>15.733004</td>\n",
       "      <td>4.545955e-01</td>\n",
       "      <td>4.702116e-01</td>\n",
       "      <td>0.552731</td>\n",
       "      <td>0.445714</td>\n",
       "    </tr>\n",
       "    <tr>\n",
       "      <th>std</th>\n",
       "      <td>NaN</td>\n",
       "      <td>NaN</td>\n",
       "      <td>0.057579</td>\n",
       "      <td>1.014364</td>\n",
       "      <td>3.259134</td>\n",
       "      <td>NaN</td>\n",
       "      <td>6.277617</td>\n",
       "      <td>NaN</td>\n",
       "      <td>NaN</td>\n",
       "      <td>0.031872</td>\n",
       "      <td>0.029771</td>\n",
       "      <td>0.478608</td>\n",
       "      <td>8.835590</td>\n",
       "      <td>3.520491e-01</td>\n",
       "      <td>3.508751e-01</td>\n",
       "      <td>0.195983</td>\n",
       "      <td>0.138472</td>\n",
       "    </tr>\n",
       "    <tr>\n",
       "      <th>min</th>\n",
       "      <td>NaN</td>\n",
       "      <td>NaN</td>\n",
       "      <td>0.000000</td>\n",
       "      <td>2015.000000</td>\n",
       "      <td>1.000000</td>\n",
       "      <td>NaN</td>\n",
       "      <td>0.000000</td>\n",
       "      <td>NaN</td>\n",
       "      <td>NaN</td>\n",
       "      <td>42.232413</td>\n",
       "      <td>-71.178674</td>\n",
       "      <td>0.000000</td>\n",
       "      <td>1.000000</td>\n",
       "      <td>3.198556e-08</td>\n",
       "      <td>7.996391e-09</td>\n",
       "      <td>0.000000</td>\n",
       "      <td>0.000000</td>\n",
       "    </tr>\n",
       "    <tr>\n",
       "      <th>25%</th>\n",
       "      <td>NaN</td>\n",
       "      <td>NaN</td>\n",
       "      <td>0.000000</td>\n",
       "      <td>2016.000000</td>\n",
       "      <td>4.000000</td>\n",
       "      <td>NaN</td>\n",
       "      <td>9.000000</td>\n",
       "      <td>NaN</td>\n",
       "      <td>NaN</td>\n",
       "      <td>42.297555</td>\n",
       "      <td>-71.097189</td>\n",
       "      <td>0.000000</td>\n",
       "      <td>8.000000</td>\n",
       "      <td>1.077541e-01</td>\n",
       "      <td>1.218691e-01</td>\n",
       "      <td>0.400558</td>\n",
       "      <td>0.379002</td>\n",
       "    </tr>\n",
       "    <tr>\n",
       "      <th>50%</th>\n",
       "      <td>NaN</td>\n",
       "      <td>NaN</td>\n",
       "      <td>0.000000</td>\n",
       "      <td>2017.000000</td>\n",
       "      <td>7.000000</td>\n",
       "      <td>NaN</td>\n",
       "      <td>14.000000</td>\n",
       "      <td>NaN</td>\n",
       "      <td>NaN</td>\n",
       "      <td>42.325636</td>\n",
       "      <td>-71.077549</td>\n",
       "      <td>0.000000</td>\n",
       "      <td>16.000000</td>\n",
       "      <td>4.103712e-01</td>\n",
       "      <td>4.425391e-01</td>\n",
       "      <td>0.573227</td>\n",
       "      <td>0.470353</td>\n",
       "    </tr>\n",
       "    <tr>\n",
       "      <th>75%</th>\n",
       "      <td>NaN</td>\n",
       "      <td>NaN</td>\n",
       "      <td>0.000000</td>\n",
       "      <td>2017.000000</td>\n",
       "      <td>9.000000</td>\n",
       "      <td>NaN</td>\n",
       "      <td>18.000000</td>\n",
       "      <td>NaN</td>\n",
       "      <td>NaN</td>\n",
       "      <td>42.348624</td>\n",
       "      <td>-71.062563</td>\n",
       "      <td>1.000000</td>\n",
       "      <td>23.000000</td>\n",
       "      <td>8.024862e-01</td>\n",
       "      <td>8.170195e-01</td>\n",
       "      <td>0.714578</td>\n",
       "      <td>0.540057</td>\n",
       "    </tr>\n",
       "    <tr>\n",
       "      <th>max</th>\n",
       "      <td>NaN</td>\n",
       "      <td>NaN</td>\n",
       "      <td>1.000000</td>\n",
       "      <td>2018.000000</td>\n",
       "      <td>12.000000</td>\n",
       "      <td>NaN</td>\n",
       "      <td>23.000000</td>\n",
       "      <td>NaN</td>\n",
       "      <td>NaN</td>\n",
       "      <td>42.395042</td>\n",
       "      <td>-70.963676</td>\n",
       "      <td>1.000000</td>\n",
       "      <td>31.000000</td>\n",
       "      <td>1.000000e+00</td>\n",
       "      <td>1.000000e+00</td>\n",
       "      <td>1.000000</td>\n",
       "      <td>1.000000</td>\n",
       "    </tr>\n",
       "  </tbody>\n",
       "</table>\n",
       "</div>"
      ],
      "text/plain": [
       "                     OFFENSE_CODE_GROUP DISTRICT       SHOOTING  \\\n",
       "count                            304229   304229  304229.000000   \n",
       "unique                               59       12            NaN   \n",
       "top     Motor Vehicle Accident Response       B2            NaN   \n",
       "freq                              31444    47233            NaN   \n",
       "mean                                NaN      NaN       0.003326   \n",
       "std                                 NaN      NaN       0.057579   \n",
       "min                                 NaN      NaN       0.000000   \n",
       "25%                                 NaN      NaN       0.000000   \n",
       "50%                                 NaN      NaN       0.000000   \n",
       "75%                                 NaN      NaN       0.000000   \n",
       "max                                 NaN      NaN       1.000000   \n",
       "\n",
       "                 YEAR          MONTH DAY_OF_WEEK           HOUR    UCR_PART  \\\n",
       "count   304229.000000  304229.000000      304229  304229.000000      304229   \n",
       "unique            NaN            NaN           7            NaN           3   \n",
       "top               NaN            NaN      Friday            NaN  Part Three   \n",
       "freq              NaN            NaN       46161            NaN      150579   \n",
       "mean      2016.589641       6.673325         NaN      13.126125         NaN   \n",
       "std          1.014364       3.259134         NaN       6.277617         NaN   \n",
       "min       2015.000000       1.000000         NaN       0.000000         NaN   \n",
       "25%       2016.000000       4.000000         NaN       9.000000         NaN   \n",
       "50%       2017.000000       7.000000         NaN      14.000000         NaN   \n",
       "75%       2017.000000       9.000000         NaN      18.000000         NaN   \n",
       "max       2018.000000      12.000000         NaN      23.000000         NaN   \n",
       "\n",
       "               STREET            Lat           Long       IS_NIGHT  \\\n",
       "count          303286  304229.000000  304229.000000  304229.000000   \n",
       "unique           3837            NaN            NaN            NaN   \n",
       "top     WASHINGTON ST            NaN            NaN            NaN   \n",
       "freq            14202            NaN            NaN            NaN   \n",
       "mean              NaN      42.322303     -71.082846       0.355311   \n",
       "std               NaN       0.031872       0.029771       0.478608   \n",
       "min               NaN      42.232413     -71.178674       0.000000   \n",
       "25%               NaN      42.297555     -71.097189       0.000000   \n",
       "50%               NaN      42.325636     -71.077549       0.000000   \n",
       "75%               NaN      42.348624     -71.062563       1.000000   \n",
       "max               NaN      42.395042     -70.963676       1.000000   \n",
       "\n",
       "         DAY_OF_MONTH        TIME_X        TIME_Y          Lat_M  \\\n",
       "count   304229.000000  3.042290e+05  3.042290e+05  304229.000000   \n",
       "unique            NaN           NaN           NaN            NaN   \n",
       "top               NaN           NaN           NaN            NaN   \n",
       "freq              NaN           NaN           NaN            NaN   \n",
       "mean        15.733004  4.545955e-01  4.702116e-01       0.552731   \n",
       "std          8.835590  3.520491e-01  3.508751e-01       0.195983   \n",
       "min          1.000000  3.198556e-08  7.996391e-09       0.000000   \n",
       "25%          8.000000  1.077541e-01  1.218691e-01       0.400558   \n",
       "50%         16.000000  4.103712e-01  4.425391e-01       0.573227   \n",
       "75%         23.000000  8.024862e-01  8.170195e-01       0.714578   \n",
       "max         31.000000  1.000000e+00  1.000000e+00       1.000000   \n",
       "\n",
       "               Long_M  \n",
       "count   304229.000000  \n",
       "unique            NaN  \n",
       "top               NaN  \n",
       "freq              NaN  \n",
       "mean         0.445714  \n",
       "std          0.138472  \n",
       "min          0.000000  \n",
       "25%          0.379002  \n",
       "50%          0.470353  \n",
       "75%          0.540057  \n",
       "max          1.000000  "
      ]
     },
     "execution_count": 51,
     "metadata": {},
     "output_type": "execute_result"
    }
   ],
   "source": [
    "crimes_df.describe(include='all')"
   ]
  },
  {
   "cell_type": "code",
   "execution_count": 52,
   "metadata": {},
   "outputs": [],
   "source": [
    "crimes_df.to_csv('crimes_clean_time.csv', header = True, index=False)"
   ]
  },
  {
   "cell_type": "code",
   "execution_count": 53,
   "metadata": {},
   "outputs": [],
   "source": [
    "dict_offense_code = {\"Aggravated Assault\": \"Desorden\", \"Aircraft\": \"Otros\", \"Arson\": \"Desorden\", \"Assembly or Gathering Violations\": \"Desorden\", \"Auto Theft\": \"Robo\", \"Auto Theft Recovery\": \"Robo\", \"Ballistics\": \"Armas\", \"Biological Threat\": \"Otros\", \"Bomb Hoax\": \"Armas\", \"Burglary - No Property Taken\": \"Robo\", \"Commercial Burglary\": \"Robo\", \"Confidence Games\": \"Hurto\", \"Counterfeiting\": \"Falsificacion\", \"Criminal Harassment\": \"Falsificacion\", \"Disorderly Conduct\": \"Desorden\", \"Drug Violation\": \"Drogas\", \"Embezzlement\": \"Hurto\", \"Evading Fare\": \"Hurto\", \"Explosives\": \"Armas\", \"Fire Related Reports\": \"Otros\", \"Firearm Discovery\": \"Armas\", \"Firearm Violations\": \"Armas\", \"Fraud\": \"Fraude\", \"Gambling\": \"Fraude\", \"Harassment\": \"Sexual\", \"Harbor Related Incidents\": \"Sexual\", \"HOME INVASION\": \"Robo\", \"Homicide\": \"Asesinato\", \"HUMAN TRAFFICKING\": \"Sexual\", \"HUMAN TRAFFICKING - INVOLUNTARY SERVITUDE\": \"Violento\", \"Investigate Person\": \"Investigar\",\"INVESTIGATE PERSON\": \"Investigar\",\"Investigate Property\": \"Investigar\", \"Landlord/Tenant Disputes\": \"Otros\", \"Larceny\": \"Hurto\", \"Larceny From Motor Vehicle\": \"Robo\", \"License Plate Related Incidents\": \"Trafico\", \"License Violation\": \"Desorden\", \"Liquor Violation\": \"Drogas\", \"Manslaughter\": \"Asesinato\", \"Medical Assistance\": \"Medica\", \"Missing Person Located\": \"Desaparecido\", \"Missing Person Reported\": \"Desaparecido\", \"Motor Vehicle Accident Response\": \"Trafico\", \"Offenses Against Child / Family\": \"Infancia\", \"Operating Under the Influence\": \"Drogas\", \"Other\": \"Otros\", \"Other Burglary\": \"Robo\", \"Phone Call Complaints\": \"Otros\", \"Police Service Incidents\": \"Otros\", \"Prisoner Related Incidents\": \"Violento\", \"Property Found\": \"Otros\", \"Property Lost\": \"Otros\", \"Property Related Damage\": \"Desorden\", \"Prostitution\": \"Sexual\", \"Recovered Stolen Property\": \"Robo\", \"Residential Burglary\": \"Robo\", \"Restraining Order Violations\": \"Otros\", \"Robbery\": \"Robo\", \"Search Warrants\": \"Otros\", \"Service\": \"Otros\", \"Simple Assault\": \"Violento\", \"Towed\": \"Trafico\", \"Vandalism\": \"Desorden\", \"Verbal Disputes\": \"Desorden\", \"Violations\": \"Desorden\", \"Warrant Arrests\": \"Desorden\"}"
   ]
  },
  {
   "cell_type": "code",
   "execution_count": null,
   "metadata": {},
   "outputs": [],
   "source": []
  },
  {
   "cell_type": "code",
   "execution_count": 54,
   "metadata": {},
   "outputs": [],
   "source": [
    "crimes_df[\"OFFENSE_CODE_GROUP\"] =  crimes_df[\"OFFENSE_CODE_GROUP\"].map(dict_offense_code)\n",
    "crimes_df.to_csv('crimes_clean_time_2.csv', header = True, index=False)"
   ]
  },
  {
   "cell_type": "code",
   "execution_count": 55,
   "metadata": {},
   "outputs": [],
   "source": [
    "crimes_df['TIME_X'] = np.vectorize(time_function.time_day_x)(crimes_df['HOUR'])\n",
    "crimes_df['TIME_Y'] = np.vectorize(time_function.time_day_x)(crimes_df['HOUR'])\n",
    "\n",
    "crimes_df.to_csv('crimes_clean_time_3.csv', header = True, index=False)"
   ]
  }
 ],
 "metadata": {
  "kernelspec": {
   "display_name": "Python 3",
   "language": "python",
   "name": "python3"
  },
  "language_info": {
   "codemirror_mode": {
    "name": "ipython",
    "version": 3
   },
   "file_extension": ".py",
   "mimetype": "text/x-python",
   "name": "python",
   "nbconvert_exporter": "python",
   "pygments_lexer": "ipython3",
   "version": "3.7.6"
  }
 },
 "nbformat": 4,
 "nbformat_minor": 2
}
